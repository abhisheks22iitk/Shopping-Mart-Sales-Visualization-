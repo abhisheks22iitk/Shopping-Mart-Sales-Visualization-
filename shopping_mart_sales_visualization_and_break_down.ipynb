{
  "cells": [
    {
      "cell_type": "markdown",
      "metadata": {
        "papermill": {
          "duration": 0.03081,
          "end_time": "2020-09-16T10:15:24.132158",
          "exception": false,
          "start_time": "2020-09-16T10:15:24.101348",
          "status": "completed"
        },
        "tags": [],
        "id": "iu64M45JUMKC"
      },
      "source": [
        "# <font color=blue><center><b>DATA ANALYSIS AND VISUALIZATION OF </center><br><center>SHOPPING MART SALES DATA</b></center></font>"
      ]
    },
    {
      "cell_type": "markdown",
      "source": [
        ""
      ],
      "metadata": {
        "id": "_sINBJhjEpLE"
      }
    },
    {
      "cell_type": "markdown",
      "metadata": {
        "papermill": {
          "duration": 0.029093,
          "end_time": "2020-09-16T10:15:24.249091",
          "exception": false,
          "start_time": "2020-09-16T10:15:24.219998",
          "status": "completed"
        },
        "tags": [],
        "id": "AuPRLD5gUMKH"
      },
      "source": [
        "# Problem Statement:\n",
        "The data scientists at a Shopping Mart have collected 2013 sales data for 1559 products across 10 stores in different cities. Also, certain attributes of each product and store have been defined. The aim is to  find out the sales of each product at a particular store. Using this Shopping Mart will try to understand the properties of products and stores which play a key role in increasing sales.\n",
        "\n",
        "\n",
        "**Note**: Check the data cleaning part of the notebook. "
      ]
    },
    {
      "cell_type": "markdown",
      "metadata": {
        "papermill": {
          "duration": 0.029178,
          "end_time": "2020-09-16T10:15:24.307315",
          "exception": false,
          "start_time": "2020-09-16T10:15:24.278137",
          "status": "completed"
        },
        "tags": [],
        "id": "SJ4luAj9UMKI"
      },
      "source": [
        "# <font color=\"blue\"><center>DATA ANALYSIS</center></font>"
      ]
    },
    {
      "cell_type": "markdown",
      "metadata": {
        "papermill": {
          "duration": 0.028882,
          "end_time": "2020-09-16T10:15:24.365287",
          "exception": false,
          "start_time": "2020-09-16T10:15:24.336405",
          "status": "completed"
        },
        "tags": [],
        "id": "uyyjsKdmUMKJ"
      },
      "source": [
        "# Importing Libraries"
      ]
    },
    {
      "cell_type": "code",
      "execution_count": 5,
      "metadata": {
        "execution": {
          "iopub.execute_input": "2020-09-16T10:15:24.428434Z",
          "iopub.status.busy": "2020-09-16T10:15:24.427822Z",
          "iopub.status.idle": "2020-09-16T10:15:25.442232Z",
          "shell.execute_reply": "2020-09-16T10:15:25.441622Z"
        },
        "papermill": {
          "duration": 1.047962,
          "end_time": "2020-09-16T10:15:25.442382",
          "exception": false,
          "start_time": "2020-09-16T10:15:24.394420",
          "status": "completed"
        },
        "tags": [],
        "id": "9tAmJ4aZUMKK"
      },
      "outputs": [],
      "source": [
        "import pandas as pd\n",
        "import seaborn as sns\n",
        "import matplotlib.pyplot as plt\n",
        "import numpy as np\n",
        "import matplotlib.ticker as tick"
      ]
    },
    {
      "cell_type": "markdown",
      "metadata": {
        "papermill": {
          "duration": 0.031492,
          "end_time": "2020-09-16T10:15:25.506267",
          "exception": false,
          "start_time": "2020-09-16T10:15:25.474775",
          "status": "completed"
        },
        "tags": [],
        "id": "0wMo7PMDUMKO"
      },
      "source": [
        "# Reading the data"
      ]
    },
    {
      "cell_type": "code",
      "execution_count": 8,
      "metadata": {
        "execution": {
          "iopub.execute_input": "2020-09-16T10:15:25.572959Z",
          "iopub.status.busy": "2020-09-16T10:15:25.572069Z",
          "iopub.status.idle": "2020-09-16T10:15:25.636045Z",
          "shell.execute_reply": "2020-09-16T10:15:25.635580Z"
        },
        "papermill": {
          "duration": 0.101138,
          "end_time": "2020-09-16T10:15:25.636165",
          "exception": false,
          "start_time": "2020-09-16T10:15:25.535027",
          "status": "completed"
        },
        "tags": [],
        "id": "CFMyAmhBUMKQ",
        "outputId": "3c41d3ab-4fb7-4dd3-c0fe-f7f55de249c0",
        "colab": {
          "base_uri": "https://localhost:8080/",
          "height": 357
        }
      },
      "outputs": [
        {
          "output_type": "execute_result",
          "data": {
            "text/plain": [
              "  Item_Identifier  Item_Weight Item_Fat_Content  Item_Visibility  \\\n",
              "0           FDA15         9.30          Low Fat         0.016047   \n",
              "1           DRC01         5.92          Regular         0.019278   \n",
              "2           FDN15        17.50          Low Fat         0.016760   \n",
              "3           FDX07        19.20          Regular         0.000000   \n",
              "4           NCD19         8.93          Low Fat         0.000000   \n",
              "\n",
              "               Item_Type  Item_MRP Outlet_Identifier  \\\n",
              "0                  Dairy     249.8            OUT049   \n",
              "1            Soft Drinks      48.3            OUT018   \n",
              "2                   Meat     141.6            OUT049   \n",
              "3  Fruits and Vegetables     182.1            OUT010   \n",
              "4              Household      53.9            OUT013   \n",
              "\n",
              "   Outlet_Establishment_Year Outlet_Size Outlet_Location_Type  \\\n",
              "0                       1999      Medium               Tier 2   \n",
              "1                       2009      Medium               Tier 2   \n",
              "2                       1999      Medium               Tier 2   \n",
              "3                       1998         NaN                  NaN   \n",
              "4                       1987        High               Tier 3   \n",
              "\n",
              "         Outlet_Type  Item_Outlet_Sales  Profit  \n",
              "0  Supermarket Type1          3735.1380    11.5  \n",
              "1  Supermarket Type2           443.4228    14.3  \n",
              "2  Supermarket Type1          2097.2700    14.5  \n",
              "3      Grocery Store           732.3800    13.6  \n",
              "4  Supermarket Type1           994.7052    14.1  "
            ],
            "text/html": [
              "\n",
              "  <div id=\"df-0588e163-34cd-4e5b-8c22-75db143e0a80\">\n",
              "    <div class=\"colab-df-container\">\n",
              "      <div>\n",
              "<style scoped>\n",
              "    .dataframe tbody tr th:only-of-type {\n",
              "        vertical-align: middle;\n",
              "    }\n",
              "\n",
              "    .dataframe tbody tr th {\n",
              "        vertical-align: top;\n",
              "    }\n",
              "\n",
              "    .dataframe thead th {\n",
              "        text-align: right;\n",
              "    }\n",
              "</style>\n",
              "<table border=\"1\" class=\"dataframe\">\n",
              "  <thead>\n",
              "    <tr style=\"text-align: right;\">\n",
              "      <th></th>\n",
              "      <th>Item_Identifier</th>\n",
              "      <th>Item_Weight</th>\n",
              "      <th>Item_Fat_Content</th>\n",
              "      <th>Item_Visibility</th>\n",
              "      <th>Item_Type</th>\n",
              "      <th>Item_MRP</th>\n",
              "      <th>Outlet_Identifier</th>\n",
              "      <th>Outlet_Establishment_Year</th>\n",
              "      <th>Outlet_Size</th>\n",
              "      <th>Outlet_Location_Type</th>\n",
              "      <th>Outlet_Type</th>\n",
              "      <th>Item_Outlet_Sales</th>\n",
              "      <th>Profit</th>\n",
              "    </tr>\n",
              "  </thead>\n",
              "  <tbody>\n",
              "    <tr>\n",
              "      <th>0</th>\n",
              "      <td>FDA15</td>\n",
              "      <td>9.30</td>\n",
              "      <td>Low Fat</td>\n",
              "      <td>0.016047</td>\n",
              "      <td>Dairy</td>\n",
              "      <td>249.8</td>\n",
              "      <td>OUT049</td>\n",
              "      <td>1999</td>\n",
              "      <td>Medium</td>\n",
              "      <td>Tier 2</td>\n",
              "      <td>Supermarket Type1</td>\n",
              "      <td>3735.1380</td>\n",
              "      <td>11.5</td>\n",
              "    </tr>\n",
              "    <tr>\n",
              "      <th>1</th>\n",
              "      <td>DRC01</td>\n",
              "      <td>5.92</td>\n",
              "      <td>Regular</td>\n",
              "      <td>0.019278</td>\n",
              "      <td>Soft Drinks</td>\n",
              "      <td>48.3</td>\n",
              "      <td>OUT018</td>\n",
              "      <td>2009</td>\n",
              "      <td>Medium</td>\n",
              "      <td>Tier 2</td>\n",
              "      <td>Supermarket Type2</td>\n",
              "      <td>443.4228</td>\n",
              "      <td>14.3</td>\n",
              "    </tr>\n",
              "    <tr>\n",
              "      <th>2</th>\n",
              "      <td>FDN15</td>\n",
              "      <td>17.50</td>\n",
              "      <td>Low Fat</td>\n",
              "      <td>0.016760</td>\n",
              "      <td>Meat</td>\n",
              "      <td>141.6</td>\n",
              "      <td>OUT049</td>\n",
              "      <td>1999</td>\n",
              "      <td>Medium</td>\n",
              "      <td>Tier 2</td>\n",
              "      <td>Supermarket Type1</td>\n",
              "      <td>2097.2700</td>\n",
              "      <td>14.5</td>\n",
              "    </tr>\n",
              "    <tr>\n",
              "      <th>3</th>\n",
              "      <td>FDX07</td>\n",
              "      <td>19.20</td>\n",
              "      <td>Regular</td>\n",
              "      <td>0.000000</td>\n",
              "      <td>Fruits and Vegetables</td>\n",
              "      <td>182.1</td>\n",
              "      <td>OUT010</td>\n",
              "      <td>1998</td>\n",
              "      <td>NaN</td>\n",
              "      <td>NaN</td>\n",
              "      <td>Grocery Store</td>\n",
              "      <td>732.3800</td>\n",
              "      <td>13.6</td>\n",
              "    </tr>\n",
              "    <tr>\n",
              "      <th>4</th>\n",
              "      <td>NCD19</td>\n",
              "      <td>8.93</td>\n",
              "      <td>Low Fat</td>\n",
              "      <td>0.000000</td>\n",
              "      <td>Household</td>\n",
              "      <td>53.9</td>\n",
              "      <td>OUT013</td>\n",
              "      <td>1987</td>\n",
              "      <td>High</td>\n",
              "      <td>Tier 3</td>\n",
              "      <td>Supermarket Type1</td>\n",
              "      <td>994.7052</td>\n",
              "      <td>14.1</td>\n",
              "    </tr>\n",
              "  </tbody>\n",
              "</table>\n",
              "</div>\n",
              "      <button class=\"colab-df-convert\" onclick=\"convertToInteractive('df-0588e163-34cd-4e5b-8c22-75db143e0a80')\"\n",
              "              title=\"Convert this dataframe to an interactive table.\"\n",
              "              style=\"display:none;\">\n",
              "        \n",
              "  <svg xmlns=\"http://www.w3.org/2000/svg\" height=\"24px\"viewBox=\"0 0 24 24\"\n",
              "       width=\"24px\">\n",
              "    <path d=\"M0 0h24v24H0V0z\" fill=\"none\"/>\n",
              "    <path d=\"M18.56 5.44l.94 2.06.94-2.06 2.06-.94-2.06-.94-.94-2.06-.94 2.06-2.06.94zm-11 1L8.5 8.5l.94-2.06 2.06-.94-2.06-.94L8.5 2.5l-.94 2.06-2.06.94zm10 10l.94 2.06.94-2.06 2.06-.94-2.06-.94-.94-2.06-.94 2.06-2.06.94z\"/><path d=\"M17.41 7.96l-1.37-1.37c-.4-.4-.92-.59-1.43-.59-.52 0-1.04.2-1.43.59L10.3 9.45l-7.72 7.72c-.78.78-.78 2.05 0 2.83L4 21.41c.39.39.9.59 1.41.59.51 0 1.02-.2 1.41-.59l7.78-7.78 2.81-2.81c.8-.78.8-2.07 0-2.86zM5.41 20L4 18.59l7.72-7.72 1.47 1.35L5.41 20z\"/>\n",
              "  </svg>\n",
              "      </button>\n",
              "      \n",
              "  <style>\n",
              "    .colab-df-container {\n",
              "      display:flex;\n",
              "      flex-wrap:wrap;\n",
              "      gap: 12px;\n",
              "    }\n",
              "\n",
              "    .colab-df-convert {\n",
              "      background-color: #E8F0FE;\n",
              "      border: none;\n",
              "      border-radius: 50%;\n",
              "      cursor: pointer;\n",
              "      display: none;\n",
              "      fill: #1967D2;\n",
              "      height: 32px;\n",
              "      padding: 0 0 0 0;\n",
              "      width: 32px;\n",
              "    }\n",
              "\n",
              "    .colab-df-convert:hover {\n",
              "      background-color: #E2EBFA;\n",
              "      box-shadow: 0px 1px 2px rgba(60, 64, 67, 0.3), 0px 1px 3px 1px rgba(60, 64, 67, 0.15);\n",
              "      fill: #174EA6;\n",
              "    }\n",
              "\n",
              "    [theme=dark] .colab-df-convert {\n",
              "      background-color: #3B4455;\n",
              "      fill: #D2E3FC;\n",
              "    }\n",
              "\n",
              "    [theme=dark] .colab-df-convert:hover {\n",
              "      background-color: #434B5C;\n",
              "      box-shadow: 0px 1px 3px 1px rgba(0, 0, 0, 0.15);\n",
              "      filter: drop-shadow(0px 1px 2px rgba(0, 0, 0, 0.3));\n",
              "      fill: #FFFFFF;\n",
              "    }\n",
              "  </style>\n",
              "\n",
              "      <script>\n",
              "        const buttonEl =\n",
              "          document.querySelector('#df-0588e163-34cd-4e5b-8c22-75db143e0a80 button.colab-df-convert');\n",
              "        buttonEl.style.display =\n",
              "          google.colab.kernel.accessAllowed ? 'block' : 'none';\n",
              "\n",
              "        async function convertToInteractive(key) {\n",
              "          const element = document.querySelector('#df-0588e163-34cd-4e5b-8c22-75db143e0a80');\n",
              "          const dataTable =\n",
              "            await google.colab.kernel.invokeFunction('convertToInteractive',\n",
              "                                                     [key], {});\n",
              "          if (!dataTable) return;\n",
              "\n",
              "          const docLinkHtml = 'Like what you see? Visit the ' +\n",
              "            '<a target=\"_blank\" href=https://colab.research.google.com/notebooks/data_table.ipynb>data table notebook</a>'\n",
              "            + ' to learn more about interactive tables.';\n",
              "          element.innerHTML = '';\n",
              "          dataTable['output_type'] = 'display_data';\n",
              "          await google.colab.output.renderOutput(dataTable, element);\n",
              "          const docLink = document.createElement('div');\n",
              "          docLink.innerHTML = docLinkHtml;\n",
              "          element.appendChild(docLink);\n",
              "        }\n",
              "      </script>\n",
              "    </div>\n",
              "  </div>\n",
              "  "
            ]
          },
          "metadata": {},
          "execution_count": 8
        }
      ],
      "source": [
        "data = pd.read_csv('bigmartsales.csv')\n",
        "data.head()  #first few rows \n"
      ]
    },
    {
      "cell_type": "code",
      "execution_count": 7,
      "metadata": {
        "execution": {
          "iopub.execute_input": "2020-09-16T10:15:25.793342Z",
          "iopub.status.busy": "2020-09-16T10:15:25.792562Z",
          "iopub.status.idle": "2020-09-16T10:15:25.796661Z",
          "shell.execute_reply": "2020-09-16T10:15:25.796202Z"
        },
        "papermill": {
          "duration": 0.057626,
          "end_time": "2020-09-16T10:15:25.796766",
          "exception": false,
          "start_time": "2020-09-16T10:15:25.739140",
          "status": "completed"
        },
        "tags": [],
        "id": "ViBWtaKFUMKU",
        "outputId": "67fadb3b-657e-49d5-90a5-48a4e0c5befd",
        "colab": {
          "base_uri": "https://localhost:8080/",
          "height": 357
        }
      },
      "outputs": [
        {
          "output_type": "execute_result",
          "data": {
            "text/plain": [
              "     Item_Identifier  Item_Weight Item_Fat_Content  Item_Visibility  \\\n",
              "8518           FDF22        6.865          Low Fat         0.056783   \n",
              "8519           FDS36        8.380          Regular         0.046982   \n",
              "8520           NCJ29       10.600          Low Fat         0.035186   \n",
              "8521           FDN46        7.210          Regular         0.145221   \n",
              "8522           DRG01       14.800          Low Fat         0.044878   \n",
              "\n",
              "               Item_Type  Item_MRP Outlet_Identifier  \\\n",
              "8518         Snack Foods     214.5            OUT013   \n",
              "8519        Baking Goods     108.2            OUT045   \n",
              "8520  Health and Hygiene      85.1            OUT035   \n",
              "8521         Snack Foods     103.1            OUT018   \n",
              "8522         Soft Drinks      75.5            OUT046   \n",
              "\n",
              "      Outlet_Establishment_Year Outlet_Size Outlet_Location_Type  \\\n",
              "8518                       1987        High               Tier 3   \n",
              "8519                       2002         NaN                  NaN   \n",
              "8520                       2004       Small                Tier1   \n",
              "8521                       2009      Medium               Tier 2   \n",
              "8522                       1997       Small                Tier1   \n",
              "\n",
              "            Outlet_Type  Item_Outlet_Sales  Profit  \n",
              "8518  Supermarket Type1          2778.3834    14.1  \n",
              "8519  Supermarket Type1           549.2850    14.2  \n",
              "8520  Supermarket Type1          1193.1136     9.5  \n",
              "8521  Supermarket Type2          1845.5976    14.2  \n",
              "8522  Supermarket Type1           765.6700    14.6  "
            ],
            "text/html": [
              "\n",
              "  <div id=\"df-44132dc6-36d2-4dd6-9362-85d17676eab6\">\n",
              "    <div class=\"colab-df-container\">\n",
              "      <div>\n",
              "<style scoped>\n",
              "    .dataframe tbody tr th:only-of-type {\n",
              "        vertical-align: middle;\n",
              "    }\n",
              "\n",
              "    .dataframe tbody tr th {\n",
              "        vertical-align: top;\n",
              "    }\n",
              "\n",
              "    .dataframe thead th {\n",
              "        text-align: right;\n",
              "    }\n",
              "</style>\n",
              "<table border=\"1\" class=\"dataframe\">\n",
              "  <thead>\n",
              "    <tr style=\"text-align: right;\">\n",
              "      <th></th>\n",
              "      <th>Item_Identifier</th>\n",
              "      <th>Item_Weight</th>\n",
              "      <th>Item_Fat_Content</th>\n",
              "      <th>Item_Visibility</th>\n",
              "      <th>Item_Type</th>\n",
              "      <th>Item_MRP</th>\n",
              "      <th>Outlet_Identifier</th>\n",
              "      <th>Outlet_Establishment_Year</th>\n",
              "      <th>Outlet_Size</th>\n",
              "      <th>Outlet_Location_Type</th>\n",
              "      <th>Outlet_Type</th>\n",
              "      <th>Item_Outlet_Sales</th>\n",
              "      <th>Profit</th>\n",
              "    </tr>\n",
              "  </thead>\n",
              "  <tbody>\n",
              "    <tr>\n",
              "      <th>8518</th>\n",
              "      <td>FDF22</td>\n",
              "      <td>6.865</td>\n",
              "      <td>Low Fat</td>\n",
              "      <td>0.056783</td>\n",
              "      <td>Snack Foods</td>\n",
              "      <td>214.5</td>\n",
              "      <td>OUT013</td>\n",
              "      <td>1987</td>\n",
              "      <td>High</td>\n",
              "      <td>Tier 3</td>\n",
              "      <td>Supermarket Type1</td>\n",
              "      <td>2778.3834</td>\n",
              "      <td>14.1</td>\n",
              "    </tr>\n",
              "    <tr>\n",
              "      <th>8519</th>\n",
              "      <td>FDS36</td>\n",
              "      <td>8.380</td>\n",
              "      <td>Regular</td>\n",
              "      <td>0.046982</td>\n",
              "      <td>Baking Goods</td>\n",
              "      <td>108.2</td>\n",
              "      <td>OUT045</td>\n",
              "      <td>2002</td>\n",
              "      <td>NaN</td>\n",
              "      <td>NaN</td>\n",
              "      <td>Supermarket Type1</td>\n",
              "      <td>549.2850</td>\n",
              "      <td>14.2</td>\n",
              "    </tr>\n",
              "    <tr>\n",
              "      <th>8520</th>\n",
              "      <td>NCJ29</td>\n",
              "      <td>10.600</td>\n",
              "      <td>Low Fat</td>\n",
              "      <td>0.035186</td>\n",
              "      <td>Health and Hygiene</td>\n",
              "      <td>85.1</td>\n",
              "      <td>OUT035</td>\n",
              "      <td>2004</td>\n",
              "      <td>Small</td>\n",
              "      <td>Tier1</td>\n",
              "      <td>Supermarket Type1</td>\n",
              "      <td>1193.1136</td>\n",
              "      <td>9.5</td>\n",
              "    </tr>\n",
              "    <tr>\n",
              "      <th>8521</th>\n",
              "      <td>FDN46</td>\n",
              "      <td>7.210</td>\n",
              "      <td>Regular</td>\n",
              "      <td>0.145221</td>\n",
              "      <td>Snack Foods</td>\n",
              "      <td>103.1</td>\n",
              "      <td>OUT018</td>\n",
              "      <td>2009</td>\n",
              "      <td>Medium</td>\n",
              "      <td>Tier 2</td>\n",
              "      <td>Supermarket Type2</td>\n",
              "      <td>1845.5976</td>\n",
              "      <td>14.2</td>\n",
              "    </tr>\n",
              "    <tr>\n",
              "      <th>8522</th>\n",
              "      <td>DRG01</td>\n",
              "      <td>14.800</td>\n",
              "      <td>Low Fat</td>\n",
              "      <td>0.044878</td>\n",
              "      <td>Soft Drinks</td>\n",
              "      <td>75.5</td>\n",
              "      <td>OUT046</td>\n",
              "      <td>1997</td>\n",
              "      <td>Small</td>\n",
              "      <td>Tier1</td>\n",
              "      <td>Supermarket Type1</td>\n",
              "      <td>765.6700</td>\n",
              "      <td>14.6</td>\n",
              "    </tr>\n",
              "  </tbody>\n",
              "</table>\n",
              "</div>\n",
              "      <button class=\"colab-df-convert\" onclick=\"convertToInteractive('df-44132dc6-36d2-4dd6-9362-85d17676eab6')\"\n",
              "              title=\"Convert this dataframe to an interactive table.\"\n",
              "              style=\"display:none;\">\n",
              "        \n",
              "  <svg xmlns=\"http://www.w3.org/2000/svg\" height=\"24px\"viewBox=\"0 0 24 24\"\n",
              "       width=\"24px\">\n",
              "    <path d=\"M0 0h24v24H0V0z\" fill=\"none\"/>\n",
              "    <path d=\"M18.56 5.44l.94 2.06.94-2.06 2.06-.94-2.06-.94-.94-2.06-.94 2.06-2.06.94zm-11 1L8.5 8.5l.94-2.06 2.06-.94-2.06-.94L8.5 2.5l-.94 2.06-2.06.94zm10 10l.94 2.06.94-2.06 2.06-.94-2.06-.94-.94-2.06-.94 2.06-2.06.94z\"/><path d=\"M17.41 7.96l-1.37-1.37c-.4-.4-.92-.59-1.43-.59-.52 0-1.04.2-1.43.59L10.3 9.45l-7.72 7.72c-.78.78-.78 2.05 0 2.83L4 21.41c.39.39.9.59 1.41.59.51 0 1.02-.2 1.41-.59l7.78-7.78 2.81-2.81c.8-.78.8-2.07 0-2.86zM5.41 20L4 18.59l7.72-7.72 1.47 1.35L5.41 20z\"/>\n",
              "  </svg>\n",
              "      </button>\n",
              "      \n",
              "  <style>\n",
              "    .colab-df-container {\n",
              "      display:flex;\n",
              "      flex-wrap:wrap;\n",
              "      gap: 12px;\n",
              "    }\n",
              "\n",
              "    .colab-df-convert {\n",
              "      background-color: #E8F0FE;\n",
              "      border: none;\n",
              "      border-radius: 50%;\n",
              "      cursor: pointer;\n",
              "      display: none;\n",
              "      fill: #1967D2;\n",
              "      height: 32px;\n",
              "      padding: 0 0 0 0;\n",
              "      width: 32px;\n",
              "    }\n",
              "\n",
              "    .colab-df-convert:hover {\n",
              "      background-color: #E2EBFA;\n",
              "      box-shadow: 0px 1px 2px rgba(60, 64, 67, 0.3), 0px 1px 3px 1px rgba(60, 64, 67, 0.15);\n",
              "      fill: #174EA6;\n",
              "    }\n",
              "\n",
              "    [theme=dark] .colab-df-convert {\n",
              "      background-color: #3B4455;\n",
              "      fill: #D2E3FC;\n",
              "    }\n",
              "\n",
              "    [theme=dark] .colab-df-convert:hover {\n",
              "      background-color: #434B5C;\n",
              "      box-shadow: 0px 1px 3px 1px rgba(0, 0, 0, 0.15);\n",
              "      filter: drop-shadow(0px 1px 2px rgba(0, 0, 0, 0.3));\n",
              "      fill: #FFFFFF;\n",
              "    }\n",
              "  </style>\n",
              "\n",
              "      <script>\n",
              "        const buttonEl =\n",
              "          document.querySelector('#df-44132dc6-36d2-4dd6-9362-85d17676eab6 button.colab-df-convert');\n",
              "        buttonEl.style.display =\n",
              "          google.colab.kernel.accessAllowed ? 'block' : 'none';\n",
              "\n",
              "        async function convertToInteractive(key) {\n",
              "          const element = document.querySelector('#df-44132dc6-36d2-4dd6-9362-85d17676eab6');\n",
              "          const dataTable =\n",
              "            await google.colab.kernel.invokeFunction('convertToInteractive',\n",
              "                                                     [key], {});\n",
              "          if (!dataTable) return;\n",
              "\n",
              "          const docLinkHtml = 'Like what you see? Visit the ' +\n",
              "            '<a target=\"_blank\" href=https://colab.research.google.com/notebooks/data_table.ipynb>data table notebook</a>'\n",
              "            + ' to learn more about interactive tables.';\n",
              "          element.innerHTML = '';\n",
              "          dataTable['output_type'] = 'display_data';\n",
              "          await google.colab.output.renderOutput(dataTable, element);\n",
              "          const docLink = document.createElement('div');\n",
              "          docLink.innerHTML = docLinkHtml;\n",
              "          element.appendChild(docLink);\n",
              "        }\n",
              "      </script>\n",
              "    </div>\n",
              "  </div>\n",
              "  "
            ]
          },
          "metadata": {},
          "execution_count": 7
        }
      ],
      "source": [
        "data.tail()#Last few rows"
      ]
    },
    {
      "cell_type": "markdown",
      "metadata": {
        "papermill": {
          "duration": 0.034732,
          "end_time": "2020-09-16T10:15:25.863386",
          "exception": false,
          "start_time": "2020-09-16T10:15:25.828654",
          "status": "completed"
        },
        "tags": [],
        "id": "9Rf5RDxbUMKV"
      },
      "source": [
        "# Dimension of the data"
      ]
    },
    {
      "cell_type": "code",
      "execution_count": null,
      "metadata": {
        "execution": {
          "iopub.execute_input": "2020-09-16T10:15:25.936509Z",
          "iopub.status.busy": "2020-09-16T10:15:25.935540Z",
          "iopub.status.idle": "2020-09-16T10:15:25.939700Z",
          "shell.execute_reply": "2020-09-16T10:15:25.940118Z"
        },
        "papermill": {
          "duration": 0.046432,
          "end_time": "2020-09-16T10:15:25.940304",
          "exception": false,
          "start_time": "2020-09-16T10:15:25.893872",
          "status": "completed"
        },
        "tags": [],
        "id": "qeGGyMY-UMKW",
        "outputId": "5f179474-5059-4cce-e76e-05427e62bf4b"
      },
      "outputs": [
        {
          "data": {
            "text/plain": [
              "(8523, 13)"
            ]
          },
          "execution_count": 4,
          "metadata": {},
          "output_type": "execute_result"
        }
      ],
      "source": [
        "data.shape"
      ]
    },
    {
      "cell_type": "markdown",
      "metadata": {
        "papermill": {
          "duration": 0.032205,
          "end_time": "2020-09-16T10:15:26.008879",
          "exception": false,
          "start_time": "2020-09-16T10:15:25.976674",
          "status": "completed"
        },
        "tags": [],
        "id": "OMaUFHUjUMKX"
      },
      "source": [
        "# The data is of the type float,object and int"
      ]
    },
    {
      "cell_type": "code",
      "execution_count": 16,
      "metadata": {
        "execution": {
          "iopub.execute_input": "2020-09-16T10:15:26.080636Z",
          "iopub.status.busy": "2020-09-16T10:15:26.079800Z",
          "iopub.status.idle": "2020-09-16T10:15:26.098322Z",
          "shell.execute_reply": "2020-09-16T10:15:26.099387Z"
        },
        "papermill": {
          "duration": 0.059597,
          "end_time": "2020-09-16T10:15:26.099600",
          "exception": false,
          "start_time": "2020-09-16T10:15:26.040003",
          "status": "completed"
        },
        "tags": [],
        "id": "RICs_9mvUMKX",
        "outputId": "fdd7fc49-e750-4646-e802-7b7dcee8f1a7",
        "colab": {
          "base_uri": "https://localhost:8080/"
        }
      },
      "outputs": [
        {
          "output_type": "stream",
          "name": "stdout",
          "text": [
            "<class 'pandas.core.frame.DataFrame'>\n",
            "RangeIndex: 8523 entries, 0 to 8522\n",
            "Data columns (total 13 columns):\n",
            " #   Column                     Non-Null Count  Dtype  \n",
            "---  ------                     --------------  -----  \n",
            " 0   Item_Identifier            8523 non-null   object \n",
            " 1   Item_Weight                7774 non-null   float64\n",
            " 2   Item_Fat_Content           8523 non-null   object \n",
            " 3   Item_Visibility            8523 non-null   float64\n",
            " 4   Item_Type                  8523 non-null   object \n",
            " 5   Item_MRP                   8523 non-null   float64\n",
            " 6   Outlet_Identifier          8523 non-null   object \n",
            " 7   Outlet_Establishment_Year  8523 non-null   int64  \n",
            " 8   Outlet_Size                6113 non-null   object \n",
            " 9   Outlet_Location_Type       6473 non-null   object \n",
            " 10  Outlet_Type                8523 non-null   object \n",
            " 11  Item_Outlet_Sales          8523 non-null   float64\n",
            " 12  Profit                     8523 non-null   float64\n",
            "dtypes: float64(5), int64(1), object(7)\n",
            "memory usage: 865.7+ KB\n"
          ]
        }
      ],
      "source": [
        "data.info()"
      ]
    },
    {
      "cell_type": "markdown",
      "metadata": {
        "papermill": {
          "duration": 0.033482,
          "end_time": "2020-09-16T10:15:26.170902",
          "exception": false,
          "start_time": "2020-09-16T10:15:26.137420",
          "status": "completed"
        },
        "tags": [],
        "id": "KfgX7GfaUMKZ"
      },
      "source": [
        "# Columns in the data set"
      ]
    },
    {
      "cell_type": "markdown",
      "metadata": {
        "papermill": {
          "duration": 0.033597,
          "end_time": "2020-09-16T10:15:26.235577",
          "exception": false,
          "start_time": "2020-09-16T10:15:26.201980",
          "status": "completed"
        },
        "tags": [],
        "id": "PCgdwjsKUMKa"
      },
      "source": [
        "<b>Columns Description:</b><br><br>\n",
        "<b>Item_Identifier :</b> Unique product ID\n",
        "\n",
        "<b>Item_Weight:</b>  Weight of product\n",
        "\n",
        "<b>Item_Fat_Content :</b> Whether the product is low fat or not\n",
        "\n",
        "<b>Item_Visibility :</b> The % of total display area of all products in a store allocated to the particular product\n",
        "\n",
        "<b>Item_Type :</b> The category to which the product belongs\n",
        "\n",
        "<b>Item_MRP :</b> Maximum Retail Price (list price) of the product\n",
        "\n",
        "<b>Outlet_Identifier :</b> Unique store ID\n",
        "\n",
        "<b>Outlet_Establishment_Year :</b> The year in which store was established\n",
        "\n",
        "<b>Outlet_Size :</b> The size of the store in terms of ground area covered\n",
        "\n",
        "<b>Outlet_Location_Type :</b> The type of city in which the store is located\n",
        "\n",
        "<b>Outlet_Type :</b> Whether the outlet is just a grocery store or some sort of supermarket\n",
        "\n",
        "<b>Item_Outlet_Sales :</b> Sales of the product in the particular store."
      ]
    },
    {
      "cell_type": "code",
      "execution_count": 17,
      "metadata": {
        "execution": {
          "iopub.execute_input": "2020-09-16T10:15:26.321129Z",
          "iopub.status.busy": "2020-09-16T10:15:26.320365Z",
          "iopub.status.idle": "2020-09-16T10:15:26.325564Z",
          "shell.execute_reply": "2020-09-16T10:15:26.324911Z"
        },
        "papermill": {
          "duration": 0.05325,
          "end_time": "2020-09-16T10:15:26.325722",
          "exception": false,
          "start_time": "2020-09-16T10:15:26.272472",
          "status": "completed"
        },
        "tags": [],
        "id": "GyVv8xkyUMKc",
        "outputId": "9fbd935e-e846-476d-bfbf-fb59f0e13b51",
        "colab": {
          "base_uri": "https://localhost:8080/"
        }
      },
      "outputs": [
        {
          "output_type": "stream",
          "name": "stdout",
          "text": [
            "Index(['Item_Identifier', 'Item_Weight', 'Item_Fat_Content', 'Item_Visibility',\n",
            "       'Item_Type', 'Item_MRP', 'Outlet_Identifier',\n",
            "       'Outlet_Establishment_Year', 'Outlet_Size', 'Outlet_Location_Type',\n",
            "       'Outlet_Type', 'Item_Outlet_Sales', 'Profit'],\n",
            "      dtype='object')\n"
          ]
        }
      ],
      "source": [
        "print(data.columns)"
      ]
    },
    {
      "cell_type": "markdown",
      "metadata": {
        "papermill": {
          "duration": 0.032902,
          "end_time": "2020-09-16T10:15:26.392526",
          "exception": false,
          "start_time": "2020-09-16T10:15:26.359624",
          "status": "completed"
        },
        "tags": [],
        "id": "u1yfdUBPUMKe"
      },
      "source": [
        "# The describe method "
      ]
    },
    {
      "cell_type": "code",
      "execution_count": 18,
      "metadata": {
        "execution": {
          "iopub.execute_input": "2020-09-16T10:15:26.467296Z",
          "iopub.status.busy": "2020-09-16T10:15:26.466651Z",
          "iopub.status.idle": "2020-09-16T10:15:26.490911Z",
          "shell.execute_reply": "2020-09-16T10:15:26.491403Z"
        },
        "papermill": {
          "duration": 0.064889,
          "end_time": "2020-09-16T10:15:26.491549",
          "exception": false,
          "start_time": "2020-09-16T10:15:26.426660",
          "status": "completed"
        },
        "tags": [],
        "id": "1RbbI5LtUMKe",
        "outputId": "d0ab2719-e3ad-491a-ce74-b965b3737280",
        "colab": {
          "base_uri": "https://localhost:8080/",
          "height": 344
        }
      },
      "outputs": [
        {
          "output_type": "execute_result",
          "data": {
            "text/plain": [
              "       Item_Weight  Item_Visibility     Item_MRP  Outlet_Establishment_Year  \\\n",
              "count  7774.000000      8523.000000  8523.000000                8523.000000   \n",
              "mean     11.676740         0.066132   140.998838                1997.831867   \n",
              "std       5.776851         0.051598    62.258099                   8.371760   \n",
              "min       0.000000         0.000000    31.300000                1985.000000   \n",
              "25%       7.720000         0.026989    93.800000                1987.000000   \n",
              "50%      11.800000         0.053931   142.700000                1999.000000   \n",
              "75%      16.500000         0.094585   185.650000                2004.000000   \n",
              "max      21.350000         0.328391   266.900000                2009.000000   \n",
              "\n",
              "       Item_Outlet_Sales       Profit  \n",
              "count        8523.000000  8523.000000  \n",
              "mean         2181.288914    13.414514  \n",
              "std          1706.499616     1.701840  \n",
              "min            33.290000     0.100000  \n",
              "25%           834.247400    13.150000  \n",
              "50%          1794.331000    13.900000  \n",
              "75%          3101.296400    14.300000  \n",
              "max         13086.964800    24.000000  "
            ],
            "text/html": [
              "\n",
              "  <div id=\"df-eb6e1efb-36bc-45ac-967e-cad0b51868e2\">\n",
              "    <div class=\"colab-df-container\">\n",
              "      <div>\n",
              "<style scoped>\n",
              "    .dataframe tbody tr th:only-of-type {\n",
              "        vertical-align: middle;\n",
              "    }\n",
              "\n",
              "    .dataframe tbody tr th {\n",
              "        vertical-align: top;\n",
              "    }\n",
              "\n",
              "    .dataframe thead th {\n",
              "        text-align: right;\n",
              "    }\n",
              "</style>\n",
              "<table border=\"1\" class=\"dataframe\">\n",
              "  <thead>\n",
              "    <tr style=\"text-align: right;\">\n",
              "      <th></th>\n",
              "      <th>Item_Weight</th>\n",
              "      <th>Item_Visibility</th>\n",
              "      <th>Item_MRP</th>\n",
              "      <th>Outlet_Establishment_Year</th>\n",
              "      <th>Item_Outlet_Sales</th>\n",
              "      <th>Profit</th>\n",
              "    </tr>\n",
              "  </thead>\n",
              "  <tbody>\n",
              "    <tr>\n",
              "      <th>count</th>\n",
              "      <td>7774.000000</td>\n",
              "      <td>8523.000000</td>\n",
              "      <td>8523.000000</td>\n",
              "      <td>8523.000000</td>\n",
              "      <td>8523.000000</td>\n",
              "      <td>8523.000000</td>\n",
              "    </tr>\n",
              "    <tr>\n",
              "      <th>mean</th>\n",
              "      <td>11.676740</td>\n",
              "      <td>0.066132</td>\n",
              "      <td>140.998838</td>\n",
              "      <td>1997.831867</td>\n",
              "      <td>2181.288914</td>\n",
              "      <td>13.414514</td>\n",
              "    </tr>\n",
              "    <tr>\n",
              "      <th>std</th>\n",
              "      <td>5.776851</td>\n",
              "      <td>0.051598</td>\n",
              "      <td>62.258099</td>\n",
              "      <td>8.371760</td>\n",
              "      <td>1706.499616</td>\n",
              "      <td>1.701840</td>\n",
              "    </tr>\n",
              "    <tr>\n",
              "      <th>min</th>\n",
              "      <td>0.000000</td>\n",
              "      <td>0.000000</td>\n",
              "      <td>31.300000</td>\n",
              "      <td>1985.000000</td>\n",
              "      <td>33.290000</td>\n",
              "      <td>0.100000</td>\n",
              "    </tr>\n",
              "    <tr>\n",
              "      <th>25%</th>\n",
              "      <td>7.720000</td>\n",
              "      <td>0.026989</td>\n",
              "      <td>93.800000</td>\n",
              "      <td>1987.000000</td>\n",
              "      <td>834.247400</td>\n",
              "      <td>13.150000</td>\n",
              "    </tr>\n",
              "    <tr>\n",
              "      <th>50%</th>\n",
              "      <td>11.800000</td>\n",
              "      <td>0.053931</td>\n",
              "      <td>142.700000</td>\n",
              "      <td>1999.000000</td>\n",
              "      <td>1794.331000</td>\n",
              "      <td>13.900000</td>\n",
              "    </tr>\n",
              "    <tr>\n",
              "      <th>75%</th>\n",
              "      <td>16.500000</td>\n",
              "      <td>0.094585</td>\n",
              "      <td>185.650000</td>\n",
              "      <td>2004.000000</td>\n",
              "      <td>3101.296400</td>\n",
              "      <td>14.300000</td>\n",
              "    </tr>\n",
              "    <tr>\n",
              "      <th>max</th>\n",
              "      <td>21.350000</td>\n",
              "      <td>0.328391</td>\n",
              "      <td>266.900000</td>\n",
              "      <td>2009.000000</td>\n",
              "      <td>13086.964800</td>\n",
              "      <td>24.000000</td>\n",
              "    </tr>\n",
              "  </tbody>\n",
              "</table>\n",
              "</div>\n",
              "      <button class=\"colab-df-convert\" onclick=\"convertToInteractive('df-eb6e1efb-36bc-45ac-967e-cad0b51868e2')\"\n",
              "              title=\"Convert this dataframe to an interactive table.\"\n",
              "              style=\"display:none;\">\n",
              "        \n",
              "  <svg xmlns=\"http://www.w3.org/2000/svg\" height=\"24px\"viewBox=\"0 0 24 24\"\n",
              "       width=\"24px\">\n",
              "    <path d=\"M0 0h24v24H0V0z\" fill=\"none\"/>\n",
              "    <path d=\"M18.56 5.44l.94 2.06.94-2.06 2.06-.94-2.06-.94-.94-2.06-.94 2.06-2.06.94zm-11 1L8.5 8.5l.94-2.06 2.06-.94-2.06-.94L8.5 2.5l-.94 2.06-2.06.94zm10 10l.94 2.06.94-2.06 2.06-.94-2.06-.94-.94-2.06-.94 2.06-2.06.94z\"/><path d=\"M17.41 7.96l-1.37-1.37c-.4-.4-.92-.59-1.43-.59-.52 0-1.04.2-1.43.59L10.3 9.45l-7.72 7.72c-.78.78-.78 2.05 0 2.83L4 21.41c.39.39.9.59 1.41.59.51 0 1.02-.2 1.41-.59l7.78-7.78 2.81-2.81c.8-.78.8-2.07 0-2.86zM5.41 20L4 18.59l7.72-7.72 1.47 1.35L5.41 20z\"/>\n",
              "  </svg>\n",
              "      </button>\n",
              "      \n",
              "  <style>\n",
              "    .colab-df-container {\n",
              "      display:flex;\n",
              "      flex-wrap:wrap;\n",
              "      gap: 12px;\n",
              "    }\n",
              "\n",
              "    .colab-df-convert {\n",
              "      background-color: #E8F0FE;\n",
              "      border: none;\n",
              "      border-radius: 50%;\n",
              "      cursor: pointer;\n",
              "      display: none;\n",
              "      fill: #1967D2;\n",
              "      height: 32px;\n",
              "      padding: 0 0 0 0;\n",
              "      width: 32px;\n",
              "    }\n",
              "\n",
              "    .colab-df-convert:hover {\n",
              "      background-color: #E2EBFA;\n",
              "      box-shadow: 0px 1px 2px rgba(60, 64, 67, 0.3), 0px 1px 3px 1px rgba(60, 64, 67, 0.15);\n",
              "      fill: #174EA6;\n",
              "    }\n",
              "\n",
              "    [theme=dark] .colab-df-convert {\n",
              "      background-color: #3B4455;\n",
              "      fill: #D2E3FC;\n",
              "    }\n",
              "\n",
              "    [theme=dark] .colab-df-convert:hover {\n",
              "      background-color: #434B5C;\n",
              "      box-shadow: 0px 1px 3px 1px rgba(0, 0, 0, 0.15);\n",
              "      filter: drop-shadow(0px 1px 2px rgba(0, 0, 0, 0.3));\n",
              "      fill: #FFFFFF;\n",
              "    }\n",
              "  </style>\n",
              "\n",
              "      <script>\n",
              "        const buttonEl =\n",
              "          document.querySelector('#df-eb6e1efb-36bc-45ac-967e-cad0b51868e2 button.colab-df-convert');\n",
              "        buttonEl.style.display =\n",
              "          google.colab.kernel.accessAllowed ? 'block' : 'none';\n",
              "\n",
              "        async function convertToInteractive(key) {\n",
              "          const element = document.querySelector('#df-eb6e1efb-36bc-45ac-967e-cad0b51868e2');\n",
              "          const dataTable =\n",
              "            await google.colab.kernel.invokeFunction('convertToInteractive',\n",
              "                                                     [key], {});\n",
              "          if (!dataTable) return;\n",
              "\n",
              "          const docLinkHtml = 'Like what you see? Visit the ' +\n",
              "            '<a target=\"_blank\" href=https://colab.research.google.com/notebooks/data_table.ipynb>data table notebook</a>'\n",
              "            + ' to learn more about interactive tables.';\n",
              "          element.innerHTML = '';\n",
              "          dataTable['output_type'] = 'display_data';\n",
              "          await google.colab.output.renderOutput(dataTable, element);\n",
              "          const docLink = document.createElement('div');\n",
              "          docLink.innerHTML = docLinkHtml;\n",
              "          element.appendChild(docLink);\n",
              "        }\n",
              "      </script>\n",
              "    </div>\n",
              "  </div>\n",
              "  "
            ]
          },
          "metadata": {},
          "execution_count": 18
        }
      ],
      "source": [
        "data.describe() #shows basic statistical characteristics of each numerical feature (int64 and float64 types)"
      ]
    },
    {
      "cell_type": "markdown",
      "metadata": {
        "papermill": {
          "duration": 0.033631,
          "end_time": "2020-09-16T10:15:26.558787",
          "exception": false,
          "start_time": "2020-09-16T10:15:26.525156",
          "status": "completed"
        },
        "tags": [],
        "id": "FtvKLEUBUMKg"
      },
      "source": [
        "# The average price of an item is 140.99 and max price is 266.9 and min price is 31.3"
      ]
    },
    {
      "cell_type": "code",
      "execution_count": 19,
      "metadata": {
        "execution": {
          "iopub.execute_input": "2020-09-16T10:15:26.635097Z",
          "iopub.status.busy": "2020-09-16T10:15:26.634501Z",
          "iopub.status.idle": "2020-09-16T10:15:26.708039Z",
          "shell.execute_reply": "2020-09-16T10:15:26.708469Z"
        },
        "papermill": {
          "duration": 0.111853,
          "end_time": "2020-09-16T10:15:26.708615",
          "exception": false,
          "start_time": "2020-09-16T10:15:26.596762",
          "status": "completed"
        },
        "tags": [],
        "id": "pRTT7dFSUMKh",
        "outputId": "5fe7e48c-3037-46d9-f1ce-bb46a4a290c0",
        "colab": {
          "base_uri": "https://localhost:8080/",
          "height": 476
        }
      },
      "outputs": [
        {
          "output_type": "execute_result",
          "data": {
            "text/plain": [
              "       Item_Identifier  Item_Weight Item_Fat_Content  Item_Visibility  \\\n",
              "count             8523  7774.000000             8523      8523.000000   \n",
              "unique            1559          NaN                5              NaN   \n",
              "top              FDW13          NaN          Low Fat              NaN   \n",
              "freq                10          NaN             5089              NaN   \n",
              "mean               NaN    11.676740              NaN         0.066132   \n",
              "std                NaN     5.776851              NaN         0.051598   \n",
              "min                NaN     0.000000              NaN         0.000000   \n",
              "25%                NaN     7.720000              NaN         0.026989   \n",
              "50%                NaN    11.800000              NaN         0.053931   \n",
              "75%                NaN    16.500000              NaN         0.094585   \n",
              "max                NaN    21.350000              NaN         0.328391   \n",
              "\n",
              "                    Item_Type     Item_MRP Outlet_Identifier Outlet_Size  \\\n",
              "count                    8523  8523.000000              8523        6113   \n",
              "unique                     16          NaN                10           3   \n",
              "top     Fruits and Vegetables          NaN            OUT027      Medium   \n",
              "freq                     1232          NaN               935        2793   \n",
              "mean                      NaN   140.998838               NaN         NaN   \n",
              "std                       NaN    62.258099               NaN         NaN   \n",
              "min                       NaN    31.300000               NaN         NaN   \n",
              "25%                       NaN    93.800000               NaN         NaN   \n",
              "50%                       NaN   142.700000               NaN         NaN   \n",
              "75%                       NaN   185.650000               NaN         NaN   \n",
              "max                       NaN   266.900000               NaN         NaN   \n",
              "\n",
              "       Outlet_Location_Type        Outlet_Type  Item_Outlet_Sales       Profit  \n",
              "count                  6473               8523        8523.000000  8523.000000  \n",
              "unique                    8                  4                NaN          NaN  \n",
              "top                  Tier 2  Supermarket Type1                NaN          NaN  \n",
              "freq                   2793               5577                NaN          NaN  \n",
              "mean                    NaN                NaN        2181.288914    13.414514  \n",
              "std                     NaN                NaN        1706.499616     1.701840  \n",
              "min                     NaN                NaN          33.290000     0.100000  \n",
              "25%                     NaN                NaN         834.247400    13.150000  \n",
              "50%                     NaN                NaN        1794.331000    13.900000  \n",
              "75%                     NaN                NaN        3101.296400    14.300000  \n",
              "max                     NaN                NaN       13086.964800    24.000000  "
            ],
            "text/html": [
              "\n",
              "  <div id=\"df-030544e6-614e-4e67-8bb8-7e6d1e3260c5\">\n",
              "    <div class=\"colab-df-container\">\n",
              "      <div>\n",
              "<style scoped>\n",
              "    .dataframe tbody tr th:only-of-type {\n",
              "        vertical-align: middle;\n",
              "    }\n",
              "\n",
              "    .dataframe tbody tr th {\n",
              "        vertical-align: top;\n",
              "    }\n",
              "\n",
              "    .dataframe thead th {\n",
              "        text-align: right;\n",
              "    }\n",
              "</style>\n",
              "<table border=\"1\" class=\"dataframe\">\n",
              "  <thead>\n",
              "    <tr style=\"text-align: right;\">\n",
              "      <th></th>\n",
              "      <th>Item_Identifier</th>\n",
              "      <th>Item_Weight</th>\n",
              "      <th>Item_Fat_Content</th>\n",
              "      <th>Item_Visibility</th>\n",
              "      <th>Item_Type</th>\n",
              "      <th>Item_MRP</th>\n",
              "      <th>Outlet_Identifier</th>\n",
              "      <th>Outlet_Size</th>\n",
              "      <th>Outlet_Location_Type</th>\n",
              "      <th>Outlet_Type</th>\n",
              "      <th>Item_Outlet_Sales</th>\n",
              "      <th>Profit</th>\n",
              "    </tr>\n",
              "  </thead>\n",
              "  <tbody>\n",
              "    <tr>\n",
              "      <th>count</th>\n",
              "      <td>8523</td>\n",
              "      <td>7774.000000</td>\n",
              "      <td>8523</td>\n",
              "      <td>8523.000000</td>\n",
              "      <td>8523</td>\n",
              "      <td>8523.000000</td>\n",
              "      <td>8523</td>\n",
              "      <td>6113</td>\n",
              "      <td>6473</td>\n",
              "      <td>8523</td>\n",
              "      <td>8523.000000</td>\n",
              "      <td>8523.000000</td>\n",
              "    </tr>\n",
              "    <tr>\n",
              "      <th>unique</th>\n",
              "      <td>1559</td>\n",
              "      <td>NaN</td>\n",
              "      <td>5</td>\n",
              "      <td>NaN</td>\n",
              "      <td>16</td>\n",
              "      <td>NaN</td>\n",
              "      <td>10</td>\n",
              "      <td>3</td>\n",
              "      <td>8</td>\n",
              "      <td>4</td>\n",
              "      <td>NaN</td>\n",
              "      <td>NaN</td>\n",
              "    </tr>\n",
              "    <tr>\n",
              "      <th>top</th>\n",
              "      <td>FDW13</td>\n",
              "      <td>NaN</td>\n",
              "      <td>Low Fat</td>\n",
              "      <td>NaN</td>\n",
              "      <td>Fruits and Vegetables</td>\n",
              "      <td>NaN</td>\n",
              "      <td>OUT027</td>\n",
              "      <td>Medium</td>\n",
              "      <td>Tier 2</td>\n",
              "      <td>Supermarket Type1</td>\n",
              "      <td>NaN</td>\n",
              "      <td>NaN</td>\n",
              "    </tr>\n",
              "    <tr>\n",
              "      <th>freq</th>\n",
              "      <td>10</td>\n",
              "      <td>NaN</td>\n",
              "      <td>5089</td>\n",
              "      <td>NaN</td>\n",
              "      <td>1232</td>\n",
              "      <td>NaN</td>\n",
              "      <td>935</td>\n",
              "      <td>2793</td>\n",
              "      <td>2793</td>\n",
              "      <td>5577</td>\n",
              "      <td>NaN</td>\n",
              "      <td>NaN</td>\n",
              "    </tr>\n",
              "    <tr>\n",
              "      <th>mean</th>\n",
              "      <td>NaN</td>\n",
              "      <td>11.676740</td>\n",
              "      <td>NaN</td>\n",
              "      <td>0.066132</td>\n",
              "      <td>NaN</td>\n",
              "      <td>140.998838</td>\n",
              "      <td>NaN</td>\n",
              "      <td>NaN</td>\n",
              "      <td>NaN</td>\n",
              "      <td>NaN</td>\n",
              "      <td>2181.288914</td>\n",
              "      <td>13.414514</td>\n",
              "    </tr>\n",
              "    <tr>\n",
              "      <th>std</th>\n",
              "      <td>NaN</td>\n",
              "      <td>5.776851</td>\n",
              "      <td>NaN</td>\n",
              "      <td>0.051598</td>\n",
              "      <td>NaN</td>\n",
              "      <td>62.258099</td>\n",
              "      <td>NaN</td>\n",
              "      <td>NaN</td>\n",
              "      <td>NaN</td>\n",
              "      <td>NaN</td>\n",
              "      <td>1706.499616</td>\n",
              "      <td>1.701840</td>\n",
              "    </tr>\n",
              "    <tr>\n",
              "      <th>min</th>\n",
              "      <td>NaN</td>\n",
              "      <td>0.000000</td>\n",
              "      <td>NaN</td>\n",
              "      <td>0.000000</td>\n",
              "      <td>NaN</td>\n",
              "      <td>31.300000</td>\n",
              "      <td>NaN</td>\n",
              "      <td>NaN</td>\n",
              "      <td>NaN</td>\n",
              "      <td>NaN</td>\n",
              "      <td>33.290000</td>\n",
              "      <td>0.100000</td>\n",
              "    </tr>\n",
              "    <tr>\n",
              "      <th>25%</th>\n",
              "      <td>NaN</td>\n",
              "      <td>7.720000</td>\n",
              "      <td>NaN</td>\n",
              "      <td>0.026989</td>\n",
              "      <td>NaN</td>\n",
              "      <td>93.800000</td>\n",
              "      <td>NaN</td>\n",
              "      <td>NaN</td>\n",
              "      <td>NaN</td>\n",
              "      <td>NaN</td>\n",
              "      <td>834.247400</td>\n",
              "      <td>13.150000</td>\n",
              "    </tr>\n",
              "    <tr>\n",
              "      <th>50%</th>\n",
              "      <td>NaN</td>\n",
              "      <td>11.800000</td>\n",
              "      <td>NaN</td>\n",
              "      <td>0.053931</td>\n",
              "      <td>NaN</td>\n",
              "      <td>142.700000</td>\n",
              "      <td>NaN</td>\n",
              "      <td>NaN</td>\n",
              "      <td>NaN</td>\n",
              "      <td>NaN</td>\n",
              "      <td>1794.331000</td>\n",
              "      <td>13.900000</td>\n",
              "    </tr>\n",
              "    <tr>\n",
              "      <th>75%</th>\n",
              "      <td>NaN</td>\n",
              "      <td>16.500000</td>\n",
              "      <td>NaN</td>\n",
              "      <td>0.094585</td>\n",
              "      <td>NaN</td>\n",
              "      <td>185.650000</td>\n",
              "      <td>NaN</td>\n",
              "      <td>NaN</td>\n",
              "      <td>NaN</td>\n",
              "      <td>NaN</td>\n",
              "      <td>3101.296400</td>\n",
              "      <td>14.300000</td>\n",
              "    </tr>\n",
              "    <tr>\n",
              "      <th>max</th>\n",
              "      <td>NaN</td>\n",
              "      <td>21.350000</td>\n",
              "      <td>NaN</td>\n",
              "      <td>0.328391</td>\n",
              "      <td>NaN</td>\n",
              "      <td>266.900000</td>\n",
              "      <td>NaN</td>\n",
              "      <td>NaN</td>\n",
              "      <td>NaN</td>\n",
              "      <td>NaN</td>\n",
              "      <td>13086.964800</td>\n",
              "      <td>24.000000</td>\n",
              "    </tr>\n",
              "  </tbody>\n",
              "</table>\n",
              "</div>\n",
              "      <button class=\"colab-df-convert\" onclick=\"convertToInteractive('df-030544e6-614e-4e67-8bb8-7e6d1e3260c5')\"\n",
              "              title=\"Convert this dataframe to an interactive table.\"\n",
              "              style=\"display:none;\">\n",
              "        \n",
              "  <svg xmlns=\"http://www.w3.org/2000/svg\" height=\"24px\"viewBox=\"0 0 24 24\"\n",
              "       width=\"24px\">\n",
              "    <path d=\"M0 0h24v24H0V0z\" fill=\"none\"/>\n",
              "    <path d=\"M18.56 5.44l.94 2.06.94-2.06 2.06-.94-2.06-.94-.94-2.06-.94 2.06-2.06.94zm-11 1L8.5 8.5l.94-2.06 2.06-.94-2.06-.94L8.5 2.5l-.94 2.06-2.06.94zm10 10l.94 2.06.94-2.06 2.06-.94-2.06-.94-.94-2.06-.94 2.06-2.06.94z\"/><path d=\"M17.41 7.96l-1.37-1.37c-.4-.4-.92-.59-1.43-.59-.52 0-1.04.2-1.43.59L10.3 9.45l-7.72 7.72c-.78.78-.78 2.05 0 2.83L4 21.41c.39.39.9.59 1.41.59.51 0 1.02-.2 1.41-.59l7.78-7.78 2.81-2.81c.8-.78.8-2.07 0-2.86zM5.41 20L4 18.59l7.72-7.72 1.47 1.35L5.41 20z\"/>\n",
              "  </svg>\n",
              "      </button>\n",
              "      \n",
              "  <style>\n",
              "    .colab-df-container {\n",
              "      display:flex;\n",
              "      flex-wrap:wrap;\n",
              "      gap: 12px;\n",
              "    }\n",
              "\n",
              "    .colab-df-convert {\n",
              "      background-color: #E8F0FE;\n",
              "      border: none;\n",
              "      border-radius: 50%;\n",
              "      cursor: pointer;\n",
              "      display: none;\n",
              "      fill: #1967D2;\n",
              "      height: 32px;\n",
              "      padding: 0 0 0 0;\n",
              "      width: 32px;\n",
              "    }\n",
              "\n",
              "    .colab-df-convert:hover {\n",
              "      background-color: #E2EBFA;\n",
              "      box-shadow: 0px 1px 2px rgba(60, 64, 67, 0.3), 0px 1px 3px 1px rgba(60, 64, 67, 0.15);\n",
              "      fill: #174EA6;\n",
              "    }\n",
              "\n",
              "    [theme=dark] .colab-df-convert {\n",
              "      background-color: #3B4455;\n",
              "      fill: #D2E3FC;\n",
              "    }\n",
              "\n",
              "    [theme=dark] .colab-df-convert:hover {\n",
              "      background-color: #434B5C;\n",
              "      box-shadow: 0px 1px 3px 1px rgba(0, 0, 0, 0.15);\n",
              "      filter: drop-shadow(0px 1px 2px rgba(0, 0, 0, 0.3));\n",
              "      fill: #FFFFFF;\n",
              "    }\n",
              "  </style>\n",
              "\n",
              "      <script>\n",
              "        const buttonEl =\n",
              "          document.querySelector('#df-030544e6-614e-4e67-8bb8-7e6d1e3260c5 button.colab-df-convert');\n",
              "        buttonEl.style.display =\n",
              "          google.colab.kernel.accessAllowed ? 'block' : 'none';\n",
              "\n",
              "        async function convertToInteractive(key) {\n",
              "          const element = document.querySelector('#df-030544e6-614e-4e67-8bb8-7e6d1e3260c5');\n",
              "          const dataTable =\n",
              "            await google.colab.kernel.invokeFunction('convertToInteractive',\n",
              "                                                     [key], {});\n",
              "          if (!dataTable) return;\n",
              "\n",
              "          const docLinkHtml = 'Like what you see? Visit the ' +\n",
              "            '<a target=\"_blank\" href=https://colab.research.google.com/notebooks/data_table.ipynb>data table notebook</a>'\n",
              "            + ' to learn more about interactive tables.';\n",
              "          element.innerHTML = '';\n",
              "          dataTable['output_type'] = 'display_data';\n",
              "          await google.colab.output.renderOutput(dataTable, element);\n",
              "          const docLink = document.createElement('div');\n",
              "          docLink.innerHTML = docLinkHtml;\n",
              "          element.appendChild(docLink);\n",
              "        }\n",
              "      </script>\n",
              "    </div>\n",
              "  </div>\n",
              "  "
            ]
          },
          "metadata": {},
          "execution_count": 19
        }
      ],
      "source": [
        "data.describe(include=['object', 'float']) "
      ]
    },
    {
      "cell_type": "markdown",
      "metadata": {
        "papermill": {
          "duration": 0.034598,
          "end_time": "2020-09-16T10:15:26.776953",
          "exception": false,
          "start_time": "2020-09-16T10:15:26.742355",
          "status": "completed"
        },
        "tags": [],
        "id": "fosmQRzgUMKi"
      },
      "source": [
        "# Unique method"
      ]
    },
    {
      "cell_type": "code",
      "execution_count": 20,
      "metadata": {
        "execution": {
          "iopub.execute_input": "2020-09-16T10:15:26.850124Z",
          "iopub.status.busy": "2020-09-16T10:15:26.849272Z",
          "iopub.status.idle": "2020-09-16T10:15:26.853672Z",
          "shell.execute_reply": "2020-09-16T10:15:26.853167Z"
        },
        "papermill": {
          "duration": 0.041565,
          "end_time": "2020-09-16T10:15:26.853799",
          "exception": false,
          "start_time": "2020-09-16T10:15:26.812234",
          "status": "completed"
        },
        "tags": [],
        "id": "g18YmDnNUMKj",
        "outputId": "4c79f5dc-06fb-4c8b-8c6d-0b62def77a68",
        "colab": {
          "base_uri": "https://localhost:8080/"
        }
      },
      "outputs": [
        {
          "output_type": "execute_result",
          "data": {
            "text/plain": [
              "array(['Low Fat', 'Regular', 'low fat', 'LF', 'reg'], dtype=object)"
            ]
          },
          "metadata": {},
          "execution_count": 20
        }
      ],
      "source": [
        "data['Item_Fat_Content'].unique()"
      ]
    },
    {
      "cell_type": "code",
      "execution_count": 21,
      "metadata": {
        "execution": {
          "iopub.execute_input": "2020-09-16T10:15:26.923335Z",
          "iopub.status.busy": "2020-09-16T10:15:26.922775Z",
          "iopub.status.idle": "2020-09-16T10:15:26.929138Z",
          "shell.execute_reply": "2020-09-16T10:15:26.929586Z"
        },
        "papermill": {
          "duration": 0.043187,
          "end_time": "2020-09-16T10:15:26.929746",
          "exception": false,
          "start_time": "2020-09-16T10:15:26.886559",
          "status": "completed"
        },
        "tags": [],
        "id": "TazeaYciUMKk",
        "outputId": "dda88b06-c880-47b4-edbd-bd64f2d667d4",
        "colab": {
          "base_uri": "https://localhost:8080/"
        }
      },
      "outputs": [
        {
          "output_type": "execute_result",
          "data": {
            "text/plain": [
              "array(['Dairy', 'Soft Drinks', 'Meat', 'Fruits and Vegetables',\n",
              "       'Household', 'Baking Goods', 'Snack Foods', 'Frozen Foods',\n",
              "       'Breakfast', 'Health and Hygiene', 'Hard Drinks', 'Canned',\n",
              "       'Breads', 'Starchy Foods', 'Others', 'Seafood'], dtype=object)"
            ]
          },
          "metadata": {},
          "execution_count": 21
        }
      ],
      "source": [
        "data['Item_Type'].unique()"
      ]
    },
    {
      "cell_type": "markdown",
      "metadata": {
        "papermill": {
          "duration": 0.033292,
          "end_time": "2020-09-16T10:15:26.996568",
          "exception": false,
          "start_time": "2020-09-16T10:15:26.963276",
          "status": "completed"
        },
        "tags": [],
        "id": "e299T1WmUMKl"
      },
      "source": [
        "# Missing Values"
      ]
    },
    {
      "cell_type": "code",
      "execution_count": 22,
      "metadata": {
        "execution": {
          "iopub.execute_input": "2020-09-16T10:15:27.078285Z",
          "iopub.status.busy": "2020-09-16T10:15:27.077672Z",
          "iopub.status.idle": "2020-09-16T10:15:27.083456Z",
          "shell.execute_reply": "2020-09-16T10:15:27.082951Z"
        },
        "papermill": {
          "duration": 0.052545,
          "end_time": "2020-09-16T10:15:27.083582",
          "exception": false,
          "start_time": "2020-09-16T10:15:27.031037",
          "status": "completed"
        },
        "tags": [],
        "id": "o3r6tzmGUMKl",
        "outputId": "387102c7-a979-48d3-fd6d-c3aa01bd6935",
        "colab": {
          "base_uri": "https://localhost:8080/"
        }
      },
      "outputs": [
        {
          "output_type": "stream",
          "name": "stdout",
          "text": [
            "Item_Identifier                 0\n",
            "Item_Weight                   749\n",
            "Item_Fat_Content                0\n",
            "Item_Visibility                 0\n",
            "Item_Type                       0\n",
            "Item_MRP                        0\n",
            "Outlet_Identifier               0\n",
            "Outlet_Establishment_Year       0\n",
            "Outlet_Size                  2410\n",
            "Outlet_Location_Type         2050\n",
            "Outlet_Type                     0\n",
            "Item_Outlet_Sales               0\n",
            "Profit                          0\n",
            "dtype: int64\n"
          ]
        }
      ],
      "source": [
        "print(data.isna().sum())"
      ]
    },
    {
      "cell_type": "markdown",
      "metadata": {
        "papermill": {
          "duration": 0.032949,
          "end_time": "2020-09-16T10:15:27.150625",
          "exception": false,
          "start_time": "2020-09-16T10:15:27.117676",
          "status": "completed"
        },
        "tags": [],
        "id": "UC_yBXewUMKm"
      },
      "source": [
        "<b>Observations:</b><br>\n",
        "There are 749 missing values in Item_Weight column<br>\n",
        "There are 2410 missing values in Outlet_Size column<br>\n",
        "There are 2050 missing values in Outlet_Location_Type column"
      ]
    },
    {
      "cell_type": "code",
      "execution_count": 23,
      "metadata": {
        "execution": {
          "iopub.execute_input": "2020-09-16T10:15:27.220800Z",
          "iopub.status.busy": "2020-09-16T10:15:27.220256Z",
          "iopub.status.idle": "2020-09-16T10:15:27.230269Z",
          "shell.execute_reply": "2020-09-16T10:15:27.230753Z"
        },
        "papermill": {
          "duration": 0.046847,
          "end_time": "2020-09-16T10:15:27.230891",
          "exception": false,
          "start_time": "2020-09-16T10:15:27.184044",
          "status": "completed"
        },
        "tags": [],
        "id": "Nrva-mp0UMKm",
        "outputId": "0ca0e67d-f191-4ee5-daf1-3051924dacf1",
        "colab": {
          "base_uri": "https://localhost:8080/"
        }
      },
      "outputs": [
        {
          "output_type": "stream",
          "name": "stdout",
          "text": [
            "Categorical Value Count for the following columns:\n",
            "\n",
            "Outlet_Size:\n",
            "Medium    2793\n",
            "Small     2388\n",
            "High       932\n",
            "Name: Outlet_Size, dtype: int64\n",
            "\n",
            "Outlet_Location_Type:\n",
            "Tier 2    2793\n",
            "Tier1     2388\n",
            "Tier 3     932\n",
            "?          120\n",
            "  --       109\n",
            "  -         67\n",
            "na          48\n",
            "NAN         16\n",
            "Name: Outlet_Location_Type, dtype: int64\n"
          ]
        }
      ],
      "source": [
        "print('Categorical Value Count for the following columns:\\n')\n",
        "print('Outlet_Size:')\n",
        "print(data['Outlet_Size'].value_counts())\n",
        "print('\\nOutlet_Location_Type:')\n",
        "print(data['Outlet_Location_Type'].value_counts())"
      ]
    },
    {
      "cell_type": "code",
      "execution_count": 24,
      "metadata": {
        "execution": {
          "iopub.execute_input": "2020-09-16T10:15:27.304224Z",
          "iopub.status.busy": "2020-09-16T10:15:27.303648Z",
          "iopub.status.idle": "2020-09-16T10:15:27.339115Z",
          "shell.execute_reply": "2020-09-16T10:15:27.339608Z"
        },
        "papermill": {
          "duration": 0.074173,
          "end_time": "2020-09-16T10:15:27.339749",
          "exception": false,
          "start_time": "2020-09-16T10:15:27.265576",
          "status": "completed"
        },
        "tags": [],
        "id": "MYd91N07UMKn",
        "outputId": "0099c054-39a6-42b7-91a4-81fe6a599ce0",
        "colab": {
          "base_uri": "https://localhost:8080/"
        }
      },
      "outputs": [
        {
          "output_type": "stream",
          "name": "stdout",
          "text": [
            "Item_Identifier                 0\n",
            "Item_Weight                   749\n",
            "Item_Fat_Content                0\n",
            "Item_Visibility                 0\n",
            "Item_Type                       0\n",
            "Item_MRP                        0\n",
            "Outlet_Identifier               0\n",
            "Outlet_Establishment_Year       0\n",
            "Outlet_Size                  2410\n",
            "Outlet_Location_Type         2410\n",
            "Outlet_Type                     0\n",
            "Item_Outlet_Sales               0\n",
            "Profit                          0\n",
            "dtype: int64\n"
          ]
        }
      ],
      "source": [
        "#Replace the following unintelligible categories with np.nan\n",
        "data.replace({\"?\": np.nan, \"  --\": np.nan, \"na\": np.nan, \"NAN\": np.nan, \"  -\": np.nan}, inplace = True)\n",
        "print(data.isna().sum())\n",
        "\n"
      ]
    },
    {
      "cell_type": "markdown",
      "metadata": {
        "papermill": {
          "duration": 0.033665,
          "end_time": "2020-09-16T10:15:27.407488",
          "exception": false,
          "start_time": "2020-09-16T10:15:27.373823",
          "status": "completed"
        },
        "tags": [],
        "id": "DNrU5yOqUMKo"
      },
      "source": [
        "<b>Updated Observations:</b><br>\n",
        "There are 749 missing values in Item_Weight column<br>\n",
        "There are 2410 missing values in Outlet_Size column<br>\n",
        "There are 2410 missing values in Outlet_Location_Type column"
      ]
    },
    {
      "cell_type": "markdown",
      "metadata": {
        "papermill": {
          "duration": 0.033413,
          "end_time": "2020-09-16T10:15:27.474794",
          "exception": false,
          "start_time": "2020-09-16T10:15:27.441381",
          "status": "completed"
        },
        "tags": [],
        "id": "PzsThqpHUMKo"
      },
      "source": [
        "# Handling missing values"
      ]
    },
    {
      "cell_type": "code",
      "execution_count": 25,
      "metadata": {
        "execution": {
          "iopub.execute_input": "2020-09-16T10:15:27.545695Z",
          "iopub.status.busy": "2020-09-16T10:15:27.545126Z",
          "iopub.status.idle": "2020-09-16T10:15:27.549729Z",
          "shell.execute_reply": "2020-09-16T10:15:27.550160Z"
        },
        "papermill": {
          "duration": 0.04136,
          "end_time": "2020-09-16T10:15:27.550306",
          "exception": false,
          "start_time": "2020-09-16T10:15:27.508946",
          "status": "completed"
        },
        "tags": [],
        "id": "5FM8FeY-UMKo"
      },
      "outputs": [],
      "source": [
        "# Filling missing values of Item_Weight\n",
        "data['Item_Weight'].fillna(data['Item_Weight'].mean(),inplace = True)#filling null values with mean value"
      ]
    },
    {
      "cell_type": "code",
      "execution_count": 26,
      "metadata": {
        "execution": {
          "iopub.execute_input": "2020-09-16T10:15:27.654632Z",
          "iopub.status.busy": "2020-09-16T10:15:27.654024Z",
          "iopub.status.idle": "2020-09-16T10:15:27.658594Z",
          "shell.execute_reply": "2020-09-16T10:15:27.658079Z"
        },
        "papermill": {
          "duration": 0.072146,
          "end_time": "2020-09-16T10:15:27.658708",
          "exception": false,
          "start_time": "2020-09-16T10:15:27.586562",
          "status": "completed"
        },
        "tags": [],
        "id": "Lv39jLMWUMKp",
        "outputId": "956a3e31-bfe7-4ced-cfd8-6f9e709d8843",
        "colab": {
          "base_uri": "https://localhost:8080/",
          "height": 661
        }
      },
      "outputs": [
        {
          "output_type": "execute_result",
          "data": {
            "text/plain": [
              "     Item_Identifier  Item_Weight Item_Fat_Content  Item_Visibility  \\\n",
              "0              FDA15        9.300          Low Fat         0.016047   \n",
              "1              DRC01        5.920          Regular         0.019278   \n",
              "2              FDN15       17.500          Low Fat         0.016760   \n",
              "3              FDX07       19.200          Regular         0.000000   \n",
              "4              NCD19        8.930          Low Fat         0.000000   \n",
              "...              ...          ...              ...              ...   \n",
              "8518           FDF22        6.865          Low Fat         0.056783   \n",
              "8519           FDS36        8.380          Regular         0.046982   \n",
              "8520           NCJ29       10.600          Low Fat         0.035186   \n",
              "8521           FDN46        7.210          Regular         0.145221   \n",
              "8522           DRG01       14.800          Low Fat         0.044878   \n",
              "\n",
              "                  Item_Type  Item_MRP Outlet_Identifier  \\\n",
              "0                     Dairy     249.8            OUT049   \n",
              "1               Soft Drinks      48.3            OUT018   \n",
              "2                      Meat     141.6            OUT049   \n",
              "3     Fruits and Vegetables     182.1            OUT010   \n",
              "4                 Household      53.9            OUT013   \n",
              "...                     ...       ...               ...   \n",
              "8518            Snack Foods     214.5            OUT013   \n",
              "8519           Baking Goods     108.2            OUT045   \n",
              "8520     Health and Hygiene      85.1            OUT035   \n",
              "8521            Snack Foods     103.1            OUT018   \n",
              "8522            Soft Drinks      75.5            OUT046   \n",
              "\n",
              "      Outlet_Establishment_Year Outlet_Size Outlet_Location_Type  \\\n",
              "0                          1999      Medium               Tier 2   \n",
              "1                          2009      Medium               Tier 2   \n",
              "2                          1999      Medium               Tier 2   \n",
              "3                          1998      Medium               Tier 2   \n",
              "4                          1987        High               Tier 3   \n",
              "...                         ...         ...                  ...   \n",
              "8518                       1987        High               Tier 3   \n",
              "8519                       2002        High               Tier 3   \n",
              "8520                       2004       Small                Tier1   \n",
              "8521                       2009      Medium               Tier 2   \n",
              "8522                       1997       Small                Tier1   \n",
              "\n",
              "            Outlet_Type  Item_Outlet_Sales  Profit  \n",
              "0     Supermarket Type1          3735.1380    11.5  \n",
              "1     Supermarket Type2           443.4228    14.3  \n",
              "2     Supermarket Type1          2097.2700    14.5  \n",
              "3         Grocery Store           732.3800    13.6  \n",
              "4     Supermarket Type1           994.7052    14.1  \n",
              "...                 ...                ...     ...  \n",
              "8518  Supermarket Type1          2778.3834    14.1  \n",
              "8519  Supermarket Type1           549.2850    14.2  \n",
              "8520  Supermarket Type1          1193.1136     9.5  \n",
              "8521  Supermarket Type2          1845.5976    14.2  \n",
              "8522  Supermarket Type1           765.6700    14.6  \n",
              "\n",
              "[8523 rows x 13 columns]"
            ],
            "text/html": [
              "\n",
              "  <div id=\"df-9c1a89b2-3932-4988-ad19-03ae154daf13\">\n",
              "    <div class=\"colab-df-container\">\n",
              "      <div>\n",
              "<style scoped>\n",
              "    .dataframe tbody tr th:only-of-type {\n",
              "        vertical-align: middle;\n",
              "    }\n",
              "\n",
              "    .dataframe tbody tr th {\n",
              "        vertical-align: top;\n",
              "    }\n",
              "\n",
              "    .dataframe thead th {\n",
              "        text-align: right;\n",
              "    }\n",
              "</style>\n",
              "<table border=\"1\" class=\"dataframe\">\n",
              "  <thead>\n",
              "    <tr style=\"text-align: right;\">\n",
              "      <th></th>\n",
              "      <th>Item_Identifier</th>\n",
              "      <th>Item_Weight</th>\n",
              "      <th>Item_Fat_Content</th>\n",
              "      <th>Item_Visibility</th>\n",
              "      <th>Item_Type</th>\n",
              "      <th>Item_MRP</th>\n",
              "      <th>Outlet_Identifier</th>\n",
              "      <th>Outlet_Establishment_Year</th>\n",
              "      <th>Outlet_Size</th>\n",
              "      <th>Outlet_Location_Type</th>\n",
              "      <th>Outlet_Type</th>\n",
              "      <th>Item_Outlet_Sales</th>\n",
              "      <th>Profit</th>\n",
              "    </tr>\n",
              "  </thead>\n",
              "  <tbody>\n",
              "    <tr>\n",
              "      <th>0</th>\n",
              "      <td>FDA15</td>\n",
              "      <td>9.300</td>\n",
              "      <td>Low Fat</td>\n",
              "      <td>0.016047</td>\n",
              "      <td>Dairy</td>\n",
              "      <td>249.8</td>\n",
              "      <td>OUT049</td>\n",
              "      <td>1999</td>\n",
              "      <td>Medium</td>\n",
              "      <td>Tier 2</td>\n",
              "      <td>Supermarket Type1</td>\n",
              "      <td>3735.1380</td>\n",
              "      <td>11.5</td>\n",
              "    </tr>\n",
              "    <tr>\n",
              "      <th>1</th>\n",
              "      <td>DRC01</td>\n",
              "      <td>5.920</td>\n",
              "      <td>Regular</td>\n",
              "      <td>0.019278</td>\n",
              "      <td>Soft Drinks</td>\n",
              "      <td>48.3</td>\n",
              "      <td>OUT018</td>\n",
              "      <td>2009</td>\n",
              "      <td>Medium</td>\n",
              "      <td>Tier 2</td>\n",
              "      <td>Supermarket Type2</td>\n",
              "      <td>443.4228</td>\n",
              "      <td>14.3</td>\n",
              "    </tr>\n",
              "    <tr>\n",
              "      <th>2</th>\n",
              "      <td>FDN15</td>\n",
              "      <td>17.500</td>\n",
              "      <td>Low Fat</td>\n",
              "      <td>0.016760</td>\n",
              "      <td>Meat</td>\n",
              "      <td>141.6</td>\n",
              "      <td>OUT049</td>\n",
              "      <td>1999</td>\n",
              "      <td>Medium</td>\n",
              "      <td>Tier 2</td>\n",
              "      <td>Supermarket Type1</td>\n",
              "      <td>2097.2700</td>\n",
              "      <td>14.5</td>\n",
              "    </tr>\n",
              "    <tr>\n",
              "      <th>3</th>\n",
              "      <td>FDX07</td>\n",
              "      <td>19.200</td>\n",
              "      <td>Regular</td>\n",
              "      <td>0.000000</td>\n",
              "      <td>Fruits and Vegetables</td>\n",
              "      <td>182.1</td>\n",
              "      <td>OUT010</td>\n",
              "      <td>1998</td>\n",
              "      <td>Medium</td>\n",
              "      <td>Tier 2</td>\n",
              "      <td>Grocery Store</td>\n",
              "      <td>732.3800</td>\n",
              "      <td>13.6</td>\n",
              "    </tr>\n",
              "    <tr>\n",
              "      <th>4</th>\n",
              "      <td>NCD19</td>\n",
              "      <td>8.930</td>\n",
              "      <td>Low Fat</td>\n",
              "      <td>0.000000</td>\n",
              "      <td>Household</td>\n",
              "      <td>53.9</td>\n",
              "      <td>OUT013</td>\n",
              "      <td>1987</td>\n",
              "      <td>High</td>\n",
              "      <td>Tier 3</td>\n",
              "      <td>Supermarket Type1</td>\n",
              "      <td>994.7052</td>\n",
              "      <td>14.1</td>\n",
              "    </tr>\n",
              "    <tr>\n",
              "      <th>...</th>\n",
              "      <td>...</td>\n",
              "      <td>...</td>\n",
              "      <td>...</td>\n",
              "      <td>...</td>\n",
              "      <td>...</td>\n",
              "      <td>...</td>\n",
              "      <td>...</td>\n",
              "      <td>...</td>\n",
              "      <td>...</td>\n",
              "      <td>...</td>\n",
              "      <td>...</td>\n",
              "      <td>...</td>\n",
              "      <td>...</td>\n",
              "    </tr>\n",
              "    <tr>\n",
              "      <th>8518</th>\n",
              "      <td>FDF22</td>\n",
              "      <td>6.865</td>\n",
              "      <td>Low Fat</td>\n",
              "      <td>0.056783</td>\n",
              "      <td>Snack Foods</td>\n",
              "      <td>214.5</td>\n",
              "      <td>OUT013</td>\n",
              "      <td>1987</td>\n",
              "      <td>High</td>\n",
              "      <td>Tier 3</td>\n",
              "      <td>Supermarket Type1</td>\n",
              "      <td>2778.3834</td>\n",
              "      <td>14.1</td>\n",
              "    </tr>\n",
              "    <tr>\n",
              "      <th>8519</th>\n",
              "      <td>FDS36</td>\n",
              "      <td>8.380</td>\n",
              "      <td>Regular</td>\n",
              "      <td>0.046982</td>\n",
              "      <td>Baking Goods</td>\n",
              "      <td>108.2</td>\n",
              "      <td>OUT045</td>\n",
              "      <td>2002</td>\n",
              "      <td>High</td>\n",
              "      <td>Tier 3</td>\n",
              "      <td>Supermarket Type1</td>\n",
              "      <td>549.2850</td>\n",
              "      <td>14.2</td>\n",
              "    </tr>\n",
              "    <tr>\n",
              "      <th>8520</th>\n",
              "      <td>NCJ29</td>\n",
              "      <td>10.600</td>\n",
              "      <td>Low Fat</td>\n",
              "      <td>0.035186</td>\n",
              "      <td>Health and Hygiene</td>\n",
              "      <td>85.1</td>\n",
              "      <td>OUT035</td>\n",
              "      <td>2004</td>\n",
              "      <td>Small</td>\n",
              "      <td>Tier1</td>\n",
              "      <td>Supermarket Type1</td>\n",
              "      <td>1193.1136</td>\n",
              "      <td>9.5</td>\n",
              "    </tr>\n",
              "    <tr>\n",
              "      <th>8521</th>\n",
              "      <td>FDN46</td>\n",
              "      <td>7.210</td>\n",
              "      <td>Regular</td>\n",
              "      <td>0.145221</td>\n",
              "      <td>Snack Foods</td>\n",
              "      <td>103.1</td>\n",
              "      <td>OUT018</td>\n",
              "      <td>2009</td>\n",
              "      <td>Medium</td>\n",
              "      <td>Tier 2</td>\n",
              "      <td>Supermarket Type2</td>\n",
              "      <td>1845.5976</td>\n",
              "      <td>14.2</td>\n",
              "    </tr>\n",
              "    <tr>\n",
              "      <th>8522</th>\n",
              "      <td>DRG01</td>\n",
              "      <td>14.800</td>\n",
              "      <td>Low Fat</td>\n",
              "      <td>0.044878</td>\n",
              "      <td>Soft Drinks</td>\n",
              "      <td>75.5</td>\n",
              "      <td>OUT046</td>\n",
              "      <td>1997</td>\n",
              "      <td>Small</td>\n",
              "      <td>Tier1</td>\n",
              "      <td>Supermarket Type1</td>\n",
              "      <td>765.6700</td>\n",
              "      <td>14.6</td>\n",
              "    </tr>\n",
              "  </tbody>\n",
              "</table>\n",
              "<p>8523 rows × 13 columns</p>\n",
              "</div>\n",
              "      <button class=\"colab-df-convert\" onclick=\"convertToInteractive('df-9c1a89b2-3932-4988-ad19-03ae154daf13')\"\n",
              "              title=\"Convert this dataframe to an interactive table.\"\n",
              "              style=\"display:none;\">\n",
              "        \n",
              "  <svg xmlns=\"http://www.w3.org/2000/svg\" height=\"24px\"viewBox=\"0 0 24 24\"\n",
              "       width=\"24px\">\n",
              "    <path d=\"M0 0h24v24H0V0z\" fill=\"none\"/>\n",
              "    <path d=\"M18.56 5.44l.94 2.06.94-2.06 2.06-.94-2.06-.94-.94-2.06-.94 2.06-2.06.94zm-11 1L8.5 8.5l.94-2.06 2.06-.94-2.06-.94L8.5 2.5l-.94 2.06-2.06.94zm10 10l.94 2.06.94-2.06 2.06-.94-2.06-.94-.94-2.06-.94 2.06-2.06.94z\"/><path d=\"M17.41 7.96l-1.37-1.37c-.4-.4-.92-.59-1.43-.59-.52 0-1.04.2-1.43.59L10.3 9.45l-7.72 7.72c-.78.78-.78 2.05 0 2.83L4 21.41c.39.39.9.59 1.41.59.51 0 1.02-.2 1.41-.59l7.78-7.78 2.81-2.81c.8-.78.8-2.07 0-2.86zM5.41 20L4 18.59l7.72-7.72 1.47 1.35L5.41 20z\"/>\n",
              "  </svg>\n",
              "      </button>\n",
              "      \n",
              "  <style>\n",
              "    .colab-df-container {\n",
              "      display:flex;\n",
              "      flex-wrap:wrap;\n",
              "      gap: 12px;\n",
              "    }\n",
              "\n",
              "    .colab-df-convert {\n",
              "      background-color: #E8F0FE;\n",
              "      border: none;\n",
              "      border-radius: 50%;\n",
              "      cursor: pointer;\n",
              "      display: none;\n",
              "      fill: #1967D2;\n",
              "      height: 32px;\n",
              "      padding: 0 0 0 0;\n",
              "      width: 32px;\n",
              "    }\n",
              "\n",
              "    .colab-df-convert:hover {\n",
              "      background-color: #E2EBFA;\n",
              "      box-shadow: 0px 1px 2px rgba(60, 64, 67, 0.3), 0px 1px 3px 1px rgba(60, 64, 67, 0.15);\n",
              "      fill: #174EA6;\n",
              "    }\n",
              "\n",
              "    [theme=dark] .colab-df-convert {\n",
              "      background-color: #3B4455;\n",
              "      fill: #D2E3FC;\n",
              "    }\n",
              "\n",
              "    [theme=dark] .colab-df-convert:hover {\n",
              "      background-color: #434B5C;\n",
              "      box-shadow: 0px 1px 3px 1px rgba(0, 0, 0, 0.15);\n",
              "      filter: drop-shadow(0px 1px 2px rgba(0, 0, 0, 0.3));\n",
              "      fill: #FFFFFF;\n",
              "    }\n",
              "  </style>\n",
              "\n",
              "      <script>\n",
              "        const buttonEl =\n",
              "          document.querySelector('#df-9c1a89b2-3932-4988-ad19-03ae154daf13 button.colab-df-convert');\n",
              "        buttonEl.style.display =\n",
              "          google.colab.kernel.accessAllowed ? 'block' : 'none';\n",
              "\n",
              "        async function convertToInteractive(key) {\n",
              "          const element = document.querySelector('#df-9c1a89b2-3932-4988-ad19-03ae154daf13');\n",
              "          const dataTable =\n",
              "            await google.colab.kernel.invokeFunction('convertToInteractive',\n",
              "                                                     [key], {});\n",
              "          if (!dataTable) return;\n",
              "\n",
              "          const docLinkHtml = 'Like what you see? Visit the ' +\n",
              "            '<a target=\"_blank\" href=https://colab.research.google.com/notebooks/data_table.ipynb>data table notebook</a>'\n",
              "            + ' to learn more about interactive tables.';\n",
              "          element.innerHTML = '';\n",
              "          dataTable['output_type'] = 'display_data';\n",
              "          await google.colab.output.renderOutput(dataTable, element);\n",
              "          const docLink = document.createElement('div');\n",
              "          docLink.innerHTML = docLinkHtml;\n",
              "          element.appendChild(docLink);\n",
              "        }\n",
              "      </script>\n",
              "    </div>\n",
              "  </div>\n",
              "  "
            ]
          },
          "metadata": {},
          "execution_count": 26
        }
      ],
      "source": [
        "data['Outlet_Location_Type'].fillna(method=\"ffill\",inplace = True)\n",
        "data['Outlet_Size'].fillna(method=\"ffill\",inplace = True)\n",
        "data"
      ]
    },
    {
      "cell_type": "code",
      "execution_count": 27,
      "metadata": {
        "execution": {
          "iopub.execute_input": "2020-09-16T10:15:27.738932Z",
          "iopub.status.busy": "2020-09-16T10:15:27.738172Z",
          "iopub.status.idle": "2020-09-16T10:15:27.741607Z",
          "shell.execute_reply": "2020-09-16T10:15:27.742043Z"
        },
        "papermill": {
          "duration": 0.047662,
          "end_time": "2020-09-16T10:15:27.742174",
          "exception": false,
          "start_time": "2020-09-16T10:15:27.694512",
          "status": "completed"
        },
        "tags": [],
        "id": "B9eNyZnGUMKq",
        "outputId": "e59fda81-a536-462a-c6c9-44a7540b05b9",
        "colab": {
          "base_uri": "https://localhost:8080/"
        }
      },
      "outputs": [
        {
          "output_type": "stream",
          "name": "stdout",
          "text": [
            "Low Fat    5517\n",
            "Regular    3006\n",
            "Name: Item_Fat_Content, dtype: int64\n"
          ]
        }
      ],
      "source": [
        "replace={'LF':'Low Fat','reg':'Regular','low fat':'Low Fat'}\n",
        "data.Item_Fat_Content.replace(replace, inplace=True)\n",
        "print(data.Item_Fat_Content.value_counts())"
      ]
    },
    {
      "cell_type": "code",
      "execution_count": 28,
      "metadata": {
        "execution": {
          "iopub.execute_input": "2020-09-16T10:15:27.820491Z",
          "iopub.status.busy": "2020-09-16T10:15:27.817332Z",
          "iopub.status.idle": "2020-09-16T10:15:27.826841Z",
          "shell.execute_reply": "2020-09-16T10:15:27.826343Z"
        },
        "papermill": {
          "duration": 0.049281,
          "end_time": "2020-09-16T10:15:27.826944",
          "exception": false,
          "start_time": "2020-09-16T10:15:27.777663",
          "status": "completed"
        },
        "tags": [],
        "id": "Bp3hiBTLUMKq",
        "outputId": "a338ea55-facb-4636-8580-72ad6500ab25",
        "colab": {
          "base_uri": "https://localhost:8080/"
        }
      },
      "outputs": [
        {
          "output_type": "execute_result",
          "data": {
            "text/plain": [
              "Item_Identifier              0\n",
              "Item_Weight                  0\n",
              "Item_Fat_Content             0\n",
              "Item_Visibility              0\n",
              "Item_Type                    0\n",
              "Item_MRP                     0\n",
              "Outlet_Identifier            0\n",
              "Outlet_Establishment_Year    0\n",
              "Outlet_Size                  0\n",
              "Outlet_Location_Type         0\n",
              "Outlet_Type                  0\n",
              "Item_Outlet_Sales            0\n",
              "Profit                       0\n",
              "dtype: int64"
            ]
          },
          "metadata": {},
          "execution_count": 28
        }
      ],
      "source": [
        "data.isna().sum()"
      ]
    },
    {
      "cell_type": "markdown",
      "metadata": {
        "papermill": {
          "duration": 0.037766,
          "end_time": "2020-09-16T10:15:27.900674",
          "exception": false,
          "start_time": "2020-09-16T10:15:27.862908",
          "status": "completed"
        },
        "tags": [],
        "id": "rH7rOfrzUMKr"
      },
      "source": [
        "# Indexing by Name"
      ]
    },
    {
      "cell_type": "code",
      "execution_count": 29,
      "metadata": {
        "execution": {
          "iopub.execute_input": "2020-09-16T10:15:28.032290Z",
          "iopub.status.busy": "2020-09-16T10:15:28.031545Z",
          "iopub.status.idle": "2020-09-16T10:15:28.035760Z",
          "shell.execute_reply": "2020-09-16T10:15:28.035242Z"
        },
        "papermill": {
          "duration": 0.099383,
          "end_time": "2020-09-16T10:15:28.035874",
          "exception": false,
          "start_time": "2020-09-16T10:15:27.936491",
          "status": "completed"
        },
        "scrolled": true,
        "tags": [],
        "id": "upQvNaNwUMKr",
        "outputId": "cab88b36-dac0-48a0-afb3-8420d8ff3ef6",
        "colab": {
          "base_uri": "https://localhost:8080/",
          "height": 175
        }
      },
      "outputs": [
        {
          "output_type": "execute_result",
          "data": {
            "text/plain": [
              "  Item_Identifier  Item_Weight Item_Fat_Content  Item_Visibility  \\\n",
              "0           FDA15         9.30          Low Fat         0.016047   \n",
              "1           DRC01         5.92          Regular         0.019278   \n",
              "2           FDN15        17.50          Low Fat         0.016760   \n",
              "3           FDX07        19.20          Regular         0.000000   \n",
              "\n",
              "               Item_Type  \n",
              "0                  Dairy  \n",
              "1            Soft Drinks  \n",
              "2                   Meat  \n",
              "3  Fruits and Vegetables  "
            ],
            "text/html": [
              "\n",
              "  <div id=\"df-636cb8d3-5573-49c7-bf62-60f55b21f2c3\">\n",
              "    <div class=\"colab-df-container\">\n",
              "      <div>\n",
              "<style scoped>\n",
              "    .dataframe tbody tr th:only-of-type {\n",
              "        vertical-align: middle;\n",
              "    }\n",
              "\n",
              "    .dataframe tbody tr th {\n",
              "        vertical-align: top;\n",
              "    }\n",
              "\n",
              "    .dataframe thead th {\n",
              "        text-align: right;\n",
              "    }\n",
              "</style>\n",
              "<table border=\"1\" class=\"dataframe\">\n",
              "  <thead>\n",
              "    <tr style=\"text-align: right;\">\n",
              "      <th></th>\n",
              "      <th>Item_Identifier</th>\n",
              "      <th>Item_Weight</th>\n",
              "      <th>Item_Fat_Content</th>\n",
              "      <th>Item_Visibility</th>\n",
              "      <th>Item_Type</th>\n",
              "    </tr>\n",
              "  </thead>\n",
              "  <tbody>\n",
              "    <tr>\n",
              "      <th>0</th>\n",
              "      <td>FDA15</td>\n",
              "      <td>9.30</td>\n",
              "      <td>Low Fat</td>\n",
              "      <td>0.016047</td>\n",
              "      <td>Dairy</td>\n",
              "    </tr>\n",
              "    <tr>\n",
              "      <th>1</th>\n",
              "      <td>DRC01</td>\n",
              "      <td>5.92</td>\n",
              "      <td>Regular</td>\n",
              "      <td>0.019278</td>\n",
              "      <td>Soft Drinks</td>\n",
              "    </tr>\n",
              "    <tr>\n",
              "      <th>2</th>\n",
              "      <td>FDN15</td>\n",
              "      <td>17.50</td>\n",
              "      <td>Low Fat</td>\n",
              "      <td>0.016760</td>\n",
              "      <td>Meat</td>\n",
              "    </tr>\n",
              "    <tr>\n",
              "      <th>3</th>\n",
              "      <td>FDX07</td>\n",
              "      <td>19.20</td>\n",
              "      <td>Regular</td>\n",
              "      <td>0.000000</td>\n",
              "      <td>Fruits and Vegetables</td>\n",
              "    </tr>\n",
              "  </tbody>\n",
              "</table>\n",
              "</div>\n",
              "      <button class=\"colab-df-convert\" onclick=\"convertToInteractive('df-636cb8d3-5573-49c7-bf62-60f55b21f2c3')\"\n",
              "              title=\"Convert this dataframe to an interactive table.\"\n",
              "              style=\"display:none;\">\n",
              "        \n",
              "  <svg xmlns=\"http://www.w3.org/2000/svg\" height=\"24px\"viewBox=\"0 0 24 24\"\n",
              "       width=\"24px\">\n",
              "    <path d=\"M0 0h24v24H0V0z\" fill=\"none\"/>\n",
              "    <path d=\"M18.56 5.44l.94 2.06.94-2.06 2.06-.94-2.06-.94-.94-2.06-.94 2.06-2.06.94zm-11 1L8.5 8.5l.94-2.06 2.06-.94-2.06-.94L8.5 2.5l-.94 2.06-2.06.94zm10 10l.94 2.06.94-2.06 2.06-.94-2.06-.94-.94-2.06-.94 2.06-2.06.94z\"/><path d=\"M17.41 7.96l-1.37-1.37c-.4-.4-.92-.59-1.43-.59-.52 0-1.04.2-1.43.59L10.3 9.45l-7.72 7.72c-.78.78-.78 2.05 0 2.83L4 21.41c.39.39.9.59 1.41.59.51 0 1.02-.2 1.41-.59l7.78-7.78 2.81-2.81c.8-.78.8-2.07 0-2.86zM5.41 20L4 18.59l7.72-7.72 1.47 1.35L5.41 20z\"/>\n",
              "  </svg>\n",
              "      </button>\n",
              "      \n",
              "  <style>\n",
              "    .colab-df-container {\n",
              "      display:flex;\n",
              "      flex-wrap:wrap;\n",
              "      gap: 12px;\n",
              "    }\n",
              "\n",
              "    .colab-df-convert {\n",
              "      background-color: #E8F0FE;\n",
              "      border: none;\n",
              "      border-radius: 50%;\n",
              "      cursor: pointer;\n",
              "      display: none;\n",
              "      fill: #1967D2;\n",
              "      height: 32px;\n",
              "      padding: 0 0 0 0;\n",
              "      width: 32px;\n",
              "    }\n",
              "\n",
              "    .colab-df-convert:hover {\n",
              "      background-color: #E2EBFA;\n",
              "      box-shadow: 0px 1px 2px rgba(60, 64, 67, 0.3), 0px 1px 3px 1px rgba(60, 64, 67, 0.15);\n",
              "      fill: #174EA6;\n",
              "    }\n",
              "\n",
              "    [theme=dark] .colab-df-convert {\n",
              "      background-color: #3B4455;\n",
              "      fill: #D2E3FC;\n",
              "    }\n",
              "\n",
              "    [theme=dark] .colab-df-convert:hover {\n",
              "      background-color: #434B5C;\n",
              "      box-shadow: 0px 1px 3px 1px rgba(0, 0, 0, 0.15);\n",
              "      filter: drop-shadow(0px 1px 2px rgba(0, 0, 0, 0.3));\n",
              "      fill: #FFFFFF;\n",
              "    }\n",
              "  </style>\n",
              "\n",
              "      <script>\n",
              "        const buttonEl =\n",
              "          document.querySelector('#df-636cb8d3-5573-49c7-bf62-60f55b21f2c3 button.colab-df-convert');\n",
              "        buttonEl.style.display =\n",
              "          google.colab.kernel.accessAllowed ? 'block' : 'none';\n",
              "\n",
              "        async function convertToInteractive(key) {\n",
              "          const element = document.querySelector('#df-636cb8d3-5573-49c7-bf62-60f55b21f2c3');\n",
              "          const dataTable =\n",
              "            await google.colab.kernel.invokeFunction('convertToInteractive',\n",
              "                                                     [key], {});\n",
              "          if (!dataTable) return;\n",
              "\n",
              "          const docLinkHtml = 'Like what you see? Visit the ' +\n",
              "            '<a target=\"_blank\" href=https://colab.research.google.com/notebooks/data_table.ipynb>data table notebook</a>'\n",
              "            + ' to learn more about interactive tables.';\n",
              "          element.innerHTML = '';\n",
              "          dataTable['output_type'] = 'display_data';\n",
              "          await google.colab.output.renderOutput(dataTable, element);\n",
              "          const docLink = document.createElement('div');\n",
              "          docLink.innerHTML = docLinkHtml;\n",
              "          element.appendChild(docLink);\n",
              "        }\n",
              "      </script>\n",
              "    </div>\n",
              "  </div>\n",
              "  "
            ]
          },
          "metadata": {},
          "execution_count": 29
        }
      ],
      "source": [
        "data.loc[0:3, 'Item_Identifier':'Item_Type']"
      ]
    },
    {
      "cell_type": "markdown",
      "metadata": {
        "papermill": {
          "duration": 0.036732,
          "end_time": "2020-09-16T10:15:28.108523",
          "exception": false,
          "start_time": "2020-09-16T10:15:28.071791",
          "status": "completed"
        },
        "tags": [],
        "id": "Rxgg6kQmUMKs"
      },
      "source": [
        "# Indexing by Number"
      ]
    },
    {
      "cell_type": "code",
      "execution_count": 30,
      "metadata": {
        "execution": {
          "iopub.execute_input": "2020-09-16T10:15:28.196250Z",
          "iopub.status.busy": "2020-09-16T10:15:28.195413Z",
          "iopub.status.idle": "2020-09-16T10:15:28.200468Z",
          "shell.execute_reply": "2020-09-16T10:15:28.199886Z"
        },
        "papermill": {
          "duration": 0.056294,
          "end_time": "2020-09-16T10:15:28.200588",
          "exception": false,
          "start_time": "2020-09-16T10:15:28.144294",
          "status": "completed"
        },
        "tags": [],
        "id": "KfcoryFUUMKs",
        "outputId": "7d25701d-229f-4878-d93c-92af18ae0cbb",
        "colab": {
          "base_uri": "https://localhost:8080/",
          "height": 260
        }
      },
      "outputs": [
        {
          "output_type": "execute_result",
          "data": {
            "text/plain": [
              "  Item_Identifier  Item_Weight Item_Fat_Content  Item_Visibility    Item_Type  \\\n",
              "0           FDA15         9.30          Low Fat         0.016047        Dairy   \n",
              "1           DRC01         5.92          Regular         0.019278  Soft Drinks   \n",
              "2           FDN15        17.50          Low Fat         0.016760         Meat   \n",
              "\n",
              "   Item_MRP Outlet_Identifier  Outlet_Establishment_Year Outlet_Size  \\\n",
              "0     249.8            OUT049                       1999      Medium   \n",
              "1      48.3            OUT018                       2009      Medium   \n",
              "2     141.6            OUT049                       1999      Medium   \n",
              "\n",
              "  Outlet_Location_Type        Outlet_Type  Item_Outlet_Sales  Profit  \n",
              "0               Tier 2  Supermarket Type1          3735.1380    11.5  \n",
              "1               Tier 2  Supermarket Type2           443.4228    14.3  \n",
              "2               Tier 2  Supermarket Type1          2097.2700    14.5  "
            ],
            "text/html": [
              "\n",
              "  <div id=\"df-5e0b90cd-7498-4ced-b442-38df53fa0a79\">\n",
              "    <div class=\"colab-df-container\">\n",
              "      <div>\n",
              "<style scoped>\n",
              "    .dataframe tbody tr th:only-of-type {\n",
              "        vertical-align: middle;\n",
              "    }\n",
              "\n",
              "    .dataframe tbody tr th {\n",
              "        vertical-align: top;\n",
              "    }\n",
              "\n",
              "    .dataframe thead th {\n",
              "        text-align: right;\n",
              "    }\n",
              "</style>\n",
              "<table border=\"1\" class=\"dataframe\">\n",
              "  <thead>\n",
              "    <tr style=\"text-align: right;\">\n",
              "      <th></th>\n",
              "      <th>Item_Identifier</th>\n",
              "      <th>Item_Weight</th>\n",
              "      <th>Item_Fat_Content</th>\n",
              "      <th>Item_Visibility</th>\n",
              "      <th>Item_Type</th>\n",
              "      <th>Item_MRP</th>\n",
              "      <th>Outlet_Identifier</th>\n",
              "      <th>Outlet_Establishment_Year</th>\n",
              "      <th>Outlet_Size</th>\n",
              "      <th>Outlet_Location_Type</th>\n",
              "      <th>Outlet_Type</th>\n",
              "      <th>Item_Outlet_Sales</th>\n",
              "      <th>Profit</th>\n",
              "    </tr>\n",
              "  </thead>\n",
              "  <tbody>\n",
              "    <tr>\n",
              "      <th>0</th>\n",
              "      <td>FDA15</td>\n",
              "      <td>9.30</td>\n",
              "      <td>Low Fat</td>\n",
              "      <td>0.016047</td>\n",
              "      <td>Dairy</td>\n",
              "      <td>249.8</td>\n",
              "      <td>OUT049</td>\n",
              "      <td>1999</td>\n",
              "      <td>Medium</td>\n",
              "      <td>Tier 2</td>\n",
              "      <td>Supermarket Type1</td>\n",
              "      <td>3735.1380</td>\n",
              "      <td>11.5</td>\n",
              "    </tr>\n",
              "    <tr>\n",
              "      <th>1</th>\n",
              "      <td>DRC01</td>\n",
              "      <td>5.92</td>\n",
              "      <td>Regular</td>\n",
              "      <td>0.019278</td>\n",
              "      <td>Soft Drinks</td>\n",
              "      <td>48.3</td>\n",
              "      <td>OUT018</td>\n",
              "      <td>2009</td>\n",
              "      <td>Medium</td>\n",
              "      <td>Tier 2</td>\n",
              "      <td>Supermarket Type2</td>\n",
              "      <td>443.4228</td>\n",
              "      <td>14.3</td>\n",
              "    </tr>\n",
              "    <tr>\n",
              "      <th>2</th>\n",
              "      <td>FDN15</td>\n",
              "      <td>17.50</td>\n",
              "      <td>Low Fat</td>\n",
              "      <td>0.016760</td>\n",
              "      <td>Meat</td>\n",
              "      <td>141.6</td>\n",
              "      <td>OUT049</td>\n",
              "      <td>1999</td>\n",
              "      <td>Medium</td>\n",
              "      <td>Tier 2</td>\n",
              "      <td>Supermarket Type1</td>\n",
              "      <td>2097.2700</td>\n",
              "      <td>14.5</td>\n",
              "    </tr>\n",
              "  </tbody>\n",
              "</table>\n",
              "</div>\n",
              "      <button class=\"colab-df-convert\" onclick=\"convertToInteractive('df-5e0b90cd-7498-4ced-b442-38df53fa0a79')\"\n",
              "              title=\"Convert this dataframe to an interactive table.\"\n",
              "              style=\"display:none;\">\n",
              "        \n",
              "  <svg xmlns=\"http://www.w3.org/2000/svg\" height=\"24px\"viewBox=\"0 0 24 24\"\n",
              "       width=\"24px\">\n",
              "    <path d=\"M0 0h24v24H0V0z\" fill=\"none\"/>\n",
              "    <path d=\"M18.56 5.44l.94 2.06.94-2.06 2.06-.94-2.06-.94-.94-2.06-.94 2.06-2.06.94zm-11 1L8.5 8.5l.94-2.06 2.06-.94-2.06-.94L8.5 2.5l-.94 2.06-2.06.94zm10 10l.94 2.06.94-2.06 2.06-.94-2.06-.94-.94-2.06-.94 2.06-2.06.94z\"/><path d=\"M17.41 7.96l-1.37-1.37c-.4-.4-.92-.59-1.43-.59-.52 0-1.04.2-1.43.59L10.3 9.45l-7.72 7.72c-.78.78-.78 2.05 0 2.83L4 21.41c.39.39.9.59 1.41.59.51 0 1.02-.2 1.41-.59l7.78-7.78 2.81-2.81c.8-.78.8-2.07 0-2.86zM5.41 20L4 18.59l7.72-7.72 1.47 1.35L5.41 20z\"/>\n",
              "  </svg>\n",
              "      </button>\n",
              "      \n",
              "  <style>\n",
              "    .colab-df-container {\n",
              "      display:flex;\n",
              "      flex-wrap:wrap;\n",
              "      gap: 12px;\n",
              "    }\n",
              "\n",
              "    .colab-df-convert {\n",
              "      background-color: #E8F0FE;\n",
              "      border: none;\n",
              "      border-radius: 50%;\n",
              "      cursor: pointer;\n",
              "      display: none;\n",
              "      fill: #1967D2;\n",
              "      height: 32px;\n",
              "      padding: 0 0 0 0;\n",
              "      width: 32px;\n",
              "    }\n",
              "\n",
              "    .colab-df-convert:hover {\n",
              "      background-color: #E2EBFA;\n",
              "      box-shadow: 0px 1px 2px rgba(60, 64, 67, 0.3), 0px 1px 3px 1px rgba(60, 64, 67, 0.15);\n",
              "      fill: #174EA6;\n",
              "    }\n",
              "\n",
              "    [theme=dark] .colab-df-convert {\n",
              "      background-color: #3B4455;\n",
              "      fill: #D2E3FC;\n",
              "    }\n",
              "\n",
              "    [theme=dark] .colab-df-convert:hover {\n",
              "      background-color: #434B5C;\n",
              "      box-shadow: 0px 1px 3px 1px rgba(0, 0, 0, 0.15);\n",
              "      filter: drop-shadow(0px 1px 2px rgba(0, 0, 0, 0.3));\n",
              "      fill: #FFFFFF;\n",
              "    }\n",
              "  </style>\n",
              "\n",
              "      <script>\n",
              "        const buttonEl =\n",
              "          document.querySelector('#df-5e0b90cd-7498-4ced-b442-38df53fa0a79 button.colab-df-convert');\n",
              "        buttonEl.style.display =\n",
              "          google.colab.kernel.accessAllowed ? 'block' : 'none';\n",
              "\n",
              "        async function convertToInteractive(key) {\n",
              "          const element = document.querySelector('#df-5e0b90cd-7498-4ced-b442-38df53fa0a79');\n",
              "          const dataTable =\n",
              "            await google.colab.kernel.invokeFunction('convertToInteractive',\n",
              "                                                     [key], {});\n",
              "          if (!dataTable) return;\n",
              "\n",
              "          const docLinkHtml = 'Like what you see? Visit the ' +\n",
              "            '<a target=\"_blank\" href=https://colab.research.google.com/notebooks/data_table.ipynb>data table notebook</a>'\n",
              "            + ' to learn more about interactive tables.';\n",
              "          element.innerHTML = '';\n",
              "          dataTable['output_type'] = 'display_data';\n",
              "          await google.colab.output.renderOutput(dataTable, element);\n",
              "          const docLink = document.createElement('div');\n",
              "          docLink.innerHTML = docLinkHtml;\n",
              "          element.appendChild(docLink);\n",
              "        }\n",
              "      </script>\n",
              "    </div>\n",
              "  </div>\n",
              "  "
            ]
          },
          "metadata": {},
          "execution_count": 30
        }
      ],
      "source": [
        "data.iloc[0:3, 0:13]"
      ]
    },
    {
      "cell_type": "code",
      "execution_count": 31,
      "metadata": {
        "execution": {
          "iopub.execute_input": "2020-09-16T10:15:28.304068Z",
          "iopub.status.busy": "2020-09-16T10:15:28.299041Z",
          "iopub.status.idle": "2020-09-16T10:15:28.308973Z",
          "shell.execute_reply": "2020-09-16T10:15:28.308393Z"
        },
        "papermill": {
          "duration": 0.065288,
          "end_time": "2020-09-16T10:15:28.309097",
          "exception": false,
          "start_time": "2020-09-16T10:15:28.243809",
          "status": "completed"
        },
        "tags": [],
        "id": "Xpxhb1ZPUMKt",
        "outputId": "85bf4724-183c-4597-ede4-cc3b641d2fcb",
        "colab": {
          "base_uri": "https://localhost:8080/",
          "height": 162
        }
      },
      "outputs": [
        {
          "output_type": "execute_result",
          "data": {
            "text/plain": [
              "     Item_Identifier  Item_Weight Item_Fat_Content  Item_Visibility  \\\n",
              "8522           DRG01         14.8          Low Fat         0.044878   \n",
              "\n",
              "        Item_Type  Item_MRP Outlet_Identifier  Outlet_Establishment_Year  \\\n",
              "8522  Soft Drinks      75.5            OUT046                       1997   \n",
              "\n",
              "     Outlet_Size Outlet_Location_Type        Outlet_Type  Item_Outlet_Sales  \\\n",
              "8522       Small                Tier1  Supermarket Type1             765.67   \n",
              "\n",
              "      Profit  \n",
              "8522    14.6  "
            ],
            "text/html": [
              "\n",
              "  <div id=\"df-984f042a-2e02-488d-babd-08cf816f057f\">\n",
              "    <div class=\"colab-df-container\">\n",
              "      <div>\n",
              "<style scoped>\n",
              "    .dataframe tbody tr th:only-of-type {\n",
              "        vertical-align: middle;\n",
              "    }\n",
              "\n",
              "    .dataframe tbody tr th {\n",
              "        vertical-align: top;\n",
              "    }\n",
              "\n",
              "    .dataframe thead th {\n",
              "        text-align: right;\n",
              "    }\n",
              "</style>\n",
              "<table border=\"1\" class=\"dataframe\">\n",
              "  <thead>\n",
              "    <tr style=\"text-align: right;\">\n",
              "      <th></th>\n",
              "      <th>Item_Identifier</th>\n",
              "      <th>Item_Weight</th>\n",
              "      <th>Item_Fat_Content</th>\n",
              "      <th>Item_Visibility</th>\n",
              "      <th>Item_Type</th>\n",
              "      <th>Item_MRP</th>\n",
              "      <th>Outlet_Identifier</th>\n",
              "      <th>Outlet_Establishment_Year</th>\n",
              "      <th>Outlet_Size</th>\n",
              "      <th>Outlet_Location_Type</th>\n",
              "      <th>Outlet_Type</th>\n",
              "      <th>Item_Outlet_Sales</th>\n",
              "      <th>Profit</th>\n",
              "    </tr>\n",
              "  </thead>\n",
              "  <tbody>\n",
              "    <tr>\n",
              "      <th>8522</th>\n",
              "      <td>DRG01</td>\n",
              "      <td>14.8</td>\n",
              "      <td>Low Fat</td>\n",
              "      <td>0.044878</td>\n",
              "      <td>Soft Drinks</td>\n",
              "      <td>75.5</td>\n",
              "      <td>OUT046</td>\n",
              "      <td>1997</td>\n",
              "      <td>Small</td>\n",
              "      <td>Tier1</td>\n",
              "      <td>Supermarket Type1</td>\n",
              "      <td>765.67</td>\n",
              "      <td>14.6</td>\n",
              "    </tr>\n",
              "  </tbody>\n",
              "</table>\n",
              "</div>\n",
              "      <button class=\"colab-df-convert\" onclick=\"convertToInteractive('df-984f042a-2e02-488d-babd-08cf816f057f')\"\n",
              "              title=\"Convert this dataframe to an interactive table.\"\n",
              "              style=\"display:none;\">\n",
              "        \n",
              "  <svg xmlns=\"http://www.w3.org/2000/svg\" height=\"24px\"viewBox=\"0 0 24 24\"\n",
              "       width=\"24px\">\n",
              "    <path d=\"M0 0h24v24H0V0z\" fill=\"none\"/>\n",
              "    <path d=\"M18.56 5.44l.94 2.06.94-2.06 2.06-.94-2.06-.94-.94-2.06-.94 2.06-2.06.94zm-11 1L8.5 8.5l.94-2.06 2.06-.94-2.06-.94L8.5 2.5l-.94 2.06-2.06.94zm10 10l.94 2.06.94-2.06 2.06-.94-2.06-.94-.94-2.06-.94 2.06-2.06.94z\"/><path d=\"M17.41 7.96l-1.37-1.37c-.4-.4-.92-.59-1.43-.59-.52 0-1.04.2-1.43.59L10.3 9.45l-7.72 7.72c-.78.78-.78 2.05 0 2.83L4 21.41c.39.39.9.59 1.41.59.51 0 1.02-.2 1.41-.59l7.78-7.78 2.81-2.81c.8-.78.8-2.07 0-2.86zM5.41 20L4 18.59l7.72-7.72 1.47 1.35L5.41 20z\"/>\n",
              "  </svg>\n",
              "      </button>\n",
              "      \n",
              "  <style>\n",
              "    .colab-df-container {\n",
              "      display:flex;\n",
              "      flex-wrap:wrap;\n",
              "      gap: 12px;\n",
              "    }\n",
              "\n",
              "    .colab-df-convert {\n",
              "      background-color: #E8F0FE;\n",
              "      border: none;\n",
              "      border-radius: 50%;\n",
              "      cursor: pointer;\n",
              "      display: none;\n",
              "      fill: #1967D2;\n",
              "      height: 32px;\n",
              "      padding: 0 0 0 0;\n",
              "      width: 32px;\n",
              "    }\n",
              "\n",
              "    .colab-df-convert:hover {\n",
              "      background-color: #E2EBFA;\n",
              "      box-shadow: 0px 1px 2px rgba(60, 64, 67, 0.3), 0px 1px 3px 1px rgba(60, 64, 67, 0.15);\n",
              "      fill: #174EA6;\n",
              "    }\n",
              "\n",
              "    [theme=dark] .colab-df-convert {\n",
              "      background-color: #3B4455;\n",
              "      fill: #D2E3FC;\n",
              "    }\n",
              "\n",
              "    [theme=dark] .colab-df-convert:hover {\n",
              "      background-color: #434B5C;\n",
              "      box-shadow: 0px 1px 3px 1px rgba(0, 0, 0, 0.15);\n",
              "      filter: drop-shadow(0px 1px 2px rgba(0, 0, 0, 0.3));\n",
              "      fill: #FFFFFF;\n",
              "    }\n",
              "  </style>\n",
              "\n",
              "      <script>\n",
              "        const buttonEl =\n",
              "          document.querySelector('#df-984f042a-2e02-488d-babd-08cf816f057f button.colab-df-convert');\n",
              "        buttonEl.style.display =\n",
              "          google.colab.kernel.accessAllowed ? 'block' : 'none';\n",
              "\n",
              "        async function convertToInteractive(key) {\n",
              "          const element = document.querySelector('#df-984f042a-2e02-488d-babd-08cf816f057f');\n",
              "          const dataTable =\n",
              "            await google.colab.kernel.invokeFunction('convertToInteractive',\n",
              "                                                     [key], {});\n",
              "          if (!dataTable) return;\n",
              "\n",
              "          const docLinkHtml = 'Like what you see? Visit the ' +\n",
              "            '<a target=\"_blank\" href=https://colab.research.google.com/notebooks/data_table.ipynb>data table notebook</a>'\n",
              "            + ' to learn more about interactive tables.';\n",
              "          element.innerHTML = '';\n",
              "          dataTable['output_type'] = 'display_data';\n",
              "          await google.colab.output.renderOutput(dataTable, element);\n",
              "          const docLink = document.createElement('div');\n",
              "          docLink.innerHTML = docLinkHtml;\n",
              "          element.appendChild(docLink);\n",
              "        }\n",
              "      </script>\n",
              "    </div>\n",
              "  </div>\n",
              "  "
            ]
          },
          "metadata": {},
          "execution_count": 31
        }
      ],
      "source": [
        "data[-1:]"
      ]
    },
    {
      "cell_type": "markdown",
      "metadata": {
        "papermill": {
          "duration": 0.038205,
          "end_time": "2020-09-16T10:15:28.385610",
          "exception": false,
          "start_time": "2020-09-16T10:15:28.347405",
          "status": "completed"
        },
        "tags": [],
        "id": "1jM8mQMIUMKu"
      },
      "source": [
        "# Apply method"
      ]
    },
    {
      "cell_type": "code",
      "execution_count": 32,
      "metadata": {
        "execution": {
          "iopub.execute_input": "2020-09-16T10:15:28.466492Z",
          "iopub.status.busy": "2020-09-16T10:15:28.465743Z",
          "iopub.status.idle": "2020-09-16T10:15:28.482775Z",
          "shell.execute_reply": "2020-09-16T10:15:28.482131Z"
        },
        "papermill": {
          "duration": 0.059386,
          "end_time": "2020-09-16T10:15:28.482893",
          "exception": false,
          "start_time": "2020-09-16T10:15:28.423507",
          "status": "completed"
        },
        "tags": [],
        "id": "y82xDhwDUMKu",
        "outputId": "d59eb5ee-2d44-4477-8688-bcdfd1da3646",
        "colab": {
          "base_uri": "https://localhost:8080/"
        }
      },
      "outputs": [
        {
          "output_type": "execute_result",
          "data": {
            "text/plain": [
              "Item_Identifier                          NCZ54\n",
              "Item_Weight                              21.35\n",
              "Item_Fat_Content                       Regular\n",
              "Item_Visibility                       0.328391\n",
              "Item_Type                        Starchy Foods\n",
              "Item_MRP                                 266.9\n",
              "Outlet_Identifier                       OUT049\n",
              "Outlet_Establishment_Year                 2009\n",
              "Outlet_Size                              Small\n",
              "Outlet_Location_Type                     Tier1\n",
              "Outlet_Type                  Supermarket Type3\n",
              "Item_Outlet_Sales                   13086.9648\n",
              "Profit                                    24.0\n",
              "dtype: object"
            ]
          },
          "metadata": {},
          "execution_count": 32
        }
      ],
      "source": [
        "import numpy as np\n",
        "data.apply(np.max) "
      ]
    },
    {
      "cell_type": "markdown",
      "metadata": {
        "papermill": {
          "duration": 0.038403,
          "end_time": "2020-09-16T10:15:28.562171",
          "exception": false,
          "start_time": "2020-09-16T10:15:28.523768",
          "status": "completed"
        },
        "tags": [],
        "id": "dndUi9bGUMKv"
      },
      "source": [
        "# <font color=\"RED\"><center> Visualization</center></font>"
      ]
    },
    {
      "cell_type": "markdown",
      "metadata": {
        "papermill": {
          "duration": 0.054334,
          "end_time": "2020-09-16T10:15:28.657210",
          "exception": false,
          "start_time": "2020-09-16T10:15:28.602876",
          "status": "completed"
        },
        "tags": [],
        "id": "j_JoIy2nUMKv"
      },
      "source": [
        "# <font color='green'>A.Univariate Analysis:</font>"
      ]
    },
    {
      "cell_type": "markdown",
      "metadata": {
        "papermill": {
          "duration": 0.043133,
          "end_time": "2020-09-16T10:15:28.748808",
          "exception": false,
          "start_time": "2020-09-16T10:15:28.705675",
          "status": "completed"
        },
        "tags": [],
        "id": "dXM54Xh4UMKv"
      },
      "source": [
        "# <font color=\"purple\">1) Item fat content</font>"
      ]
    },
    {
      "cell_type": "code",
      "execution_count": 33,
      "metadata": {
        "execution": {
          "iopub.execute_input": "2020-09-16T10:15:28.833664Z",
          "iopub.status.busy": "2020-09-16T10:15:28.833098Z",
          "iopub.status.idle": "2020-09-16T10:15:28.967510Z",
          "shell.execute_reply": "2020-09-16T10:15:28.967925Z"
        },
        "papermill": {
          "duration": 0.179375,
          "end_time": "2020-09-16T10:15:28.968063",
          "exception": false,
          "start_time": "2020-09-16T10:15:28.788688",
          "status": "completed"
        },
        "tags": [],
        "id": "6t2FEtnLUMKw",
        "outputId": "d0c5acdb-8edc-45cc-eb49-f12aacd2e14d",
        "colab": {
          "base_uri": "https://localhost:8080/",
          "height": 351
        }
      },
      "outputs": [
        {
          "output_type": "display_data",
          "data": {
            "text/plain": [
              "<Figure size 360x360 with 1 Axes>"
            ],
            "image/png": "[encoded data removed]"
          },
          "metadata": {
            "needs_background": "light"
          }
        }
      ],
      "source": [
        "plt.rcParams['figure.figsize']=(5,5)\n",
        "plt.bar(['Low Fat','Regular'],data.Item_Fat_Content.value_counts(),width=0.5,color=['blue', 'cyan'],edgecolor='yellow')\n",
        "plt.xlabel('Item_Fat_Content')\n",
        "plt.ylabel('Count')\n",
        "plt.title('Count of Item_Fat_Content')\n",
        "plt.show()"
      ]
    },
    {
      "cell_type": "markdown",
      "metadata": {
        "papermill": {
          "duration": 0.046873,
          "end_time": "2020-09-16T10:15:29.058237",
          "exception": false,
          "start_time": "2020-09-16T10:15:29.011364",
          "status": "completed"
        },
        "tags": [],
        "id": "Ho19rS0wUMKw"
      },
      "source": [
        "<b>**Observations:**</b><br>\n",
        "-The Items are mostly of Low Fat.\n",
        "    "
      ]
    },
    {
      "cell_type": "markdown",
      "metadata": {
        "papermill": {
          "duration": 0.042006,
          "end_time": "2020-09-16T10:15:29.144167",
          "exception": false,
          "start_time": "2020-09-16T10:15:29.102161",
          "status": "completed"
        },
        "tags": [],
        "id": "tB_aeBamUMKx"
      },
      "source": [
        "# <font color=\"purple\">2) Item Type</font>"
      ]
    },
    {
      "cell_type": "code",
      "execution_count": 34,
      "metadata": {
        "execution": {
          "iopub.execute_input": "2020-09-16T10:15:29.232303Z",
          "iopub.status.busy": "2020-09-16T10:15:29.231557Z",
          "iopub.status.idle": "2020-09-16T10:15:29.457951Z",
          "shell.execute_reply": "2020-09-16T10:15:29.457482Z"
        },
        "papermill": {
          "duration": 0.271973,
          "end_time": "2020-09-16T10:15:29.458056",
          "exception": false,
          "start_time": "2020-09-16T10:15:29.186083",
          "status": "completed"
        },
        "tags": [],
        "id": "Y7tLv68IUMKx",
        "outputId": "754aadc4-158f-4501-fc13-34e2753d3aeb",
        "colab": {
          "base_uri": "https://localhost:8080/",
          "height": 323
        }
      },
      "outputs": [
        {
          "output_type": "stream",
          "name": "stderr",
          "text": [
            "/usr/local/lib/python3.7/dist-packages/seaborn/_decorators.py:43: FutureWarning: Pass the following variable as a keyword arg: x. From version 0.12, the only valid positional argument will be `data`, and passing other arguments without an explicit keyword will result in an error or misinterpretation.\n",
            "  FutureWarning\n"
          ]
        },
        {
          "output_type": "display_data",
          "data": {
            "text/plain": [
              "<Figure size 1800x504 with 1 Axes>"
            ],
            "image/png": "[encoded data removed]"
          },
          "metadata": {
            "needs_background": "light"
          }
        }
      ],
      "source": [
        "plt.figure(figsize=(25,7))\n",
        "sns.countplot('Item_Type',data=data,palette='spring')\n",
        "plt.xlabel('Item_Type')\n",
        "plt.ylabel('Count')\n",
        "plt.show()"
      ]
    },
    {
      "cell_type": "markdown",
      "metadata": {
        "papermill": {
          "duration": 0.041997,
          "end_time": "2020-09-16T10:15:29.543474",
          "exception": false,
          "start_time": "2020-09-16T10:15:29.501477",
          "status": "completed"
        },
        "tags": [],
        "id": "xJSKO_RgUMKy"
      },
      "source": [
        "<b>Observations:</b><br>\n",
        "-Fruits and Vegetables are largely sold as people tend to use them on daily purpose.<br>\n",
        "-Snack Foods too have good sales."
      ]
    },
    {
      "cell_type": "markdown",
      "metadata": {
        "papermill": {
          "duration": 0.041443,
          "end_time": "2020-09-16T10:15:29.625358",
          "exception": false,
          "start_time": "2020-09-16T10:15:29.583915",
          "status": "completed"
        },
        "tags": [],
        "id": "SVx9qAfcUMKy"
      },
      "source": [
        "# <font color=\"purple\">3) Outlet Size</font>"
      ]
    },
    {
      "cell_type": "code",
      "execution_count": 35,
      "metadata": {
        "execution": {
          "iopub.execute_input": "2020-09-16T10:15:29.712430Z",
          "iopub.status.busy": "2020-09-16T10:15:29.711577Z",
          "iopub.status.idle": "2020-09-16T10:15:29.840936Z",
          "shell.execute_reply": "2020-09-16T10:15:29.841396Z"
        },
        "papermill": {
          "duration": 0.176164,
          "end_time": "2020-09-16T10:15:29.841566",
          "exception": false,
          "start_time": "2020-09-16T10:15:29.665402",
          "status": "completed"
        },
        "tags": [],
        "id": "ayxLjzlPUMKy",
        "outputId": "401545f9-3e8c-4859-87dc-1350b9c17da8",
        "colab": {
          "base_uri": "https://localhost:8080/",
          "height": 390
        }
      },
      "outputs": [
        {
          "output_type": "stream",
          "name": "stderr",
          "text": [
            "/usr/local/lib/python3.7/dist-packages/seaborn/_decorators.py:43: FutureWarning: Pass the following variable as a keyword arg: x. From version 0.12, the only valid positional argument will be `data`, and passing other arguments without an explicit keyword will result in an error or misinterpretation.\n",
            "  FutureWarning\n"
          ]
        },
        {
          "output_type": "display_data",
          "data": {
            "text/plain": [
              "<Figure size 576x360 with 1 Axes>"
            ],
            "image/png": "[encoded data removed]"
          },
          "metadata": {
            "needs_background": "light"
          }
        }
      ],
      "source": [
        "plt.figure(figsize=(8,5))\n",
        "sns.countplot('Outlet_Size',data=data,palette='Purples')\n",
        "plt.xlabel('Outlet_Size')\n",
        "plt.ylabel('Count')\n",
        "plt.show()"
      ]
    },
    {
      "cell_type": "markdown",
      "metadata": {
        "papermill": {
          "duration": 0.041837,
          "end_time": "2020-09-16T10:15:29.929275",
          "exception": false,
          "start_time": "2020-09-16T10:15:29.887438",
          "status": "completed"
        },
        "tags": [],
        "id": "yPW0qaHIUMKz"
      },
      "source": [
        " <b>Observations:</b><br>\n",
        "-The Outlets are more of Medium Size"
      ]
    },
    {
      "cell_type": "markdown",
      "metadata": {
        "papermill": {
          "duration": 0.042866,
          "end_time": "2020-09-16T10:15:30.015232",
          "exception": false,
          "start_time": "2020-09-16T10:15:29.972366",
          "status": "completed"
        },
        "tags": [],
        "id": "DoyiGzwgUMKz"
      },
      "source": [
        "# <font color=\"purple\">4) Outlet Type</font>"
      ]
    },
    {
      "cell_type": "code",
      "execution_count": 36,
      "metadata": {
        "execution": {
          "iopub.execute_input": "2020-09-16T10:15:30.118958Z",
          "iopub.status.busy": "2020-09-16T10:15:30.117160Z",
          "iopub.status.idle": "2020-09-16T10:15:30.253727Z",
          "shell.execute_reply": "2020-09-16T10:15:30.253211Z"
        },
        "papermill": {
          "duration": 0.192105,
          "end_time": "2020-09-16T10:15:30.253855",
          "exception": false,
          "start_time": "2020-09-16T10:15:30.061750",
          "status": "completed"
        },
        "tags": [],
        "id": "nXQmFOnBUMKz",
        "outputId": "25b406ca-fda5-4c2f-dd53-0f6ec589c167",
        "colab": {
          "base_uri": "https://localhost:8080/",
          "height": 390
        }
      },
      "outputs": [
        {
          "output_type": "stream",
          "name": "stderr",
          "text": [
            "/usr/local/lib/python3.7/dist-packages/seaborn/_decorators.py:43: FutureWarning: Pass the following variable as a keyword arg: x. From version 0.12, the only valid positional argument will be `data`, and passing other arguments without an explicit keyword will result in an error or misinterpretation.\n",
            "  FutureWarning\n"
          ]
        },
        {
          "output_type": "display_data",
          "data": {
            "text/plain": [
              "<Figure size 576x360 with 1 Axes>"
            ],
            "image/png": "[encoded data removed]"
          },
          "metadata": {
            "needs_background": "light"
          }
        }
      ],
      "source": [
        "plt.figure(figsize=(8,5))\n",
        "sns.countplot('Outlet_Type',data=data,palette='autumn')\n",
        "plt.xlabel('Outlet_Type')\n",
        "plt.ylabel('Count')\n",
        "plt.show()"
      ]
    },
    {
      "cell_type": "markdown",
      "metadata": {
        "papermill": {
          "duration": 0.05247,
          "end_time": "2020-09-16T10:15:30.358775",
          "exception": false,
          "start_time": "2020-09-16T10:15:30.306305",
          "status": "completed"
        },
        "tags": [],
        "id": "SI_7NbShUMK0"
      },
      "source": [
        "<b>Observations:</b><br>\n",
        "-The Outlets are mostly of Supermarket Type1."
      ]
    },
    {
      "cell_type": "markdown",
      "metadata": {
        "papermill": {
          "duration": 0.060913,
          "end_time": "2020-09-16T10:15:30.472951",
          "exception": false,
          "start_time": "2020-09-16T10:15:30.412038",
          "status": "completed"
        },
        "tags": [],
        "id": "hpvGCtGuUMK0"
      },
      "source": [
        "# <font color='green'>B.Bivariate Analysis</font>"
      ]
    },
    {
      "cell_type": "markdown",
      "metadata": {
        "papermill": {
          "duration": 0.045924,
          "end_time": "2020-09-16T10:15:30.563007",
          "exception": false,
          "start_time": "2020-09-16T10:15:30.517083",
          "status": "completed"
        },
        "tags": [],
        "id": "wCWNbz7-UMK1"
      },
      "source": [
        "# <font color=\"purple\">5) Impact of Item Fat Content on Item outlet sales</font>"
      ]
    },
    {
      "cell_type": "code",
      "execution_count": 37,
      "metadata": {
        "execution": {
          "iopub.execute_input": "2020-09-16T10:15:30.660341Z",
          "iopub.status.busy": "2020-09-16T10:15:30.659217Z",
          "iopub.status.idle": "2020-09-16T10:15:30.823049Z",
          "shell.execute_reply": "2020-09-16T10:15:30.823567Z"
        },
        "papermill": {
          "duration": 0.218368,
          "end_time": "2020-09-16T10:15:30.823732",
          "exception": false,
          "start_time": "2020-09-16T10:15:30.605364",
          "status": "completed"
        },
        "tags": [],
        "id": "CFT3LarMUMK1",
        "outputId": "368c3ee1-614b-4497-c561-e84b58aeb88a",
        "colab": {
          "base_uri": "https://localhost:8080/",
          "height": 351
        }
      },
      "outputs": [
        {
          "output_type": "display_data",
          "data": {
            "text/plain": [
              "<Figure size 360x360 with 1 Axes>"
            ],
            "image/png": "[encoded data removed]"
          },
          "metadata": {
            "needs_background": "light"
          }
        }
      ],
      "source": [
        "Outlet_Type_pivot = data.pivot_table(index='Item_Fat_Content', values=\"Item_Outlet_Sales\", aggfunc=np.sum)\n",
        "Outlet_Type_pivot.plot(kind='bar', color='blue',figsize=(5,5))\n",
        "plt.xlabel(\"Item_Fat_Content \")\n",
        "plt.ylabel(\"Item_Outlet_Sales\")\n",
        "plt.title(\"Impact of Item_Fat_Content on Item_Outlet_Sales\")\n",
        "plt.xticks(rotation=0)\n",
        "plt.ticklabel_format(axis=\"y\", style=\"plain\")\n",
        "plt.show()"
      ]
    },
    {
      "cell_type": "markdown",
      "metadata": {
        "papermill": {
          "duration": 0.047265,
          "end_time": "2020-09-16T10:15:30.914132",
          "exception": false,
          "start_time": "2020-09-16T10:15:30.866867",
          "status": "completed"
        },
        "tags": [],
        "id": "Wv9wZ_11UMK2"
      },
      "source": [
        "<b>Observations:</b><br>\n",
        "The Item Outles sales are higher for Low Fat compared to Regular Item types. "
      ]
    },
    {
      "cell_type": "markdown",
      "metadata": {
        "papermill": {
          "duration": 0.045628,
          "end_time": "2020-09-16T10:15:31.004656",
          "exception": false,
          "start_time": "2020-09-16T10:15:30.959028",
          "status": "completed"
        },
        "tags": [],
        "id": "kY30WgSlUMK2"
      },
      "source": [
        "# <font color=\"purple\"> 6) Impact of Item type on Outlet Sales</font>"
      ]
    },
    {
      "cell_type": "code",
      "execution_count": 38,
      "metadata": {
        "execution": {
          "iopub.execute_input": "2020-09-16T10:15:31.105000Z",
          "iopub.status.busy": "2020-09-16T10:15:31.104076Z",
          "iopub.status.idle": "2020-09-16T10:15:31.346234Z",
          "shell.execute_reply": "2020-09-16T10:15:31.345543Z"
        },
        "papermill": {
          "duration": 0.298961,
          "end_time": "2020-09-16T10:15:31.346367",
          "exception": false,
          "start_time": "2020-09-16T10:15:31.047406",
          "status": "completed"
        },
        "tags": [],
        "id": "lE14jCDQUMK2",
        "outputId": "490621ae-294e-4775-c2e2-4a23d64db4bd",
        "colab": {
          "base_uri": "https://localhost:8080/",
          "height": 537
        }
      },
      "outputs": [
        {
          "output_type": "display_data",
          "data": {
            "text/plain": [
              "<Figure size 360x360 with 1 Axes>"
            ],
            "image/png": "[encoded data removed]"
          },
          "metadata": {}
        }
      ],
      "source": [
        "df3=data.groupby(by='Item_Type').sum()\n",
        "df2=df3['Item_Outlet_Sales'].sort_values(ascending=False)\n",
        "plt.rcParams['font.size'] = 10\n",
        "plt.pie(df2, autopct = '%0.1f%%', radius = 2.0, labels = ['Fruits and Vegetables', 'Snack Foods','Household ','Frozen Foods','Dairy ', 'Canned','Baking Goods','Health and Hygiene','Meat', 'Soft Drinks','Breads','Hard Drinks','Starchy Foods', 'Others','Breakfast','Seafood'],\n",
        "      explode = [0.2,0.2,0,0,0,0,0,0,0,0,0,0,0,0,0.0,0.0],colors=['#ff6666', '#ffcc99', '#99ff99', '#66b3ff'])\n",
        "plt.show()\n"
      ]
    },
    {
      "cell_type": "markdown",
      "metadata": {
        "papermill": {
          "duration": 0.049643,
          "end_time": "2020-09-16T10:15:31.445755",
          "exception": false,
          "start_time": "2020-09-16T10:15:31.396112",
          "status": "completed"
        },
        "tags": [],
        "id": "xSc1PPVoUMK3"
      },
      "source": [
        "<b>Observations:</b><br>\n",
        "Fruits and Vegetables generated most Sales where as Seafood generated the least sales accross all stores"
      ]
    },
    {
      "cell_type": "markdown",
      "metadata": {
        "papermill": {
          "duration": 0.044762,
          "end_time": "2020-09-16T10:15:31.546282",
          "exception": false,
          "start_time": "2020-09-16T10:15:31.501520",
          "status": "completed"
        },
        "tags": [],
        "id": "YIjilF6IUMK3"
      },
      "source": [
        "# <font color=\"purple\">7) Impact of Outlets on Sales</font>"
      ]
    },
    {
      "cell_type": "code",
      "execution_count": 39,
      "metadata": {
        "execution": {
          "iopub.execute_input": "2020-09-16T10:15:31.650989Z",
          "iopub.status.busy": "2020-09-16T10:15:31.649882Z",
          "iopub.status.idle": "2020-09-16T10:15:31.655943Z",
          "shell.execute_reply": "2020-09-16T10:15:31.655060Z"
        },
        "papermill": {
          "duration": 0.061964,
          "end_time": "2020-09-16T10:15:31.656087",
          "exception": false,
          "start_time": "2020-09-16T10:15:31.594123",
          "status": "completed"
        },
        "tags": [],
        "id": "i8wZ3I30UMK4"
      },
      "outputs": [],
      "source": [
        "type1=data.groupby(['Outlet_Identifier'])['Item_Outlet_Sales'].sum()"
      ]
    },
    {
      "cell_type": "code",
      "execution_count": 40,
      "metadata": {
        "execution": {
          "iopub.execute_input": "2020-09-16T10:15:31.786129Z",
          "iopub.status.busy": "2020-09-16T10:15:31.784748Z",
          "iopub.status.idle": "2020-09-16T10:15:31.966543Z",
          "shell.execute_reply": "2020-09-16T10:15:31.965471Z"
        },
        "papermill": {
          "duration": 0.2547,
          "end_time": "2020-09-16T10:15:31.968120",
          "exception": false,
          "start_time": "2020-09-16T10:15:31.713420",
          "status": "completed"
        },
        "tags": [],
        "id": "8x881tBsUMK4",
        "outputId": "8e9af632-5620-4b3b-e4d2-235cb5e80bd1",
        "colab": {
          "base_uri": "https://localhost:8080/",
          "height": 405
        }
      },
      "outputs": [
        {
          "output_type": "display_data",
          "data": {
            "text/plain": [
              "<Figure size 720x432 with 1 Axes>"
            ],
            "image/png": "[encoded data removed]"
          },
          "metadata": {
            "needs_background": "light"
          }
        }
      ],
      "source": [
        "plt.rcParams['figure.figsize']=(10,6)\n",
        "a=['OUT010','OUT013','OUT017','OUT018','OUT019','OUT027','OUT035','OUT045','OUT046','OUT049']\n",
        "plt.bar(a,type1,color='gold',width=0.6)\n",
        "plt.xlabel('Outlet_Store_ID')\n",
        "plt.ylabel('Sales')\n",
        "plt.title('Outlet vs Sales')\n",
        "plt.show()"
      ]
    },
    {
      "cell_type": "markdown",
      "metadata": {
        "papermill": {
          "duration": 0.0554,
          "end_time": "2020-09-16T10:15:32.085525",
          "exception": false,
          "start_time": "2020-09-16T10:15:32.030125",
          "status": "completed"
        },
        "tags": [],
        "id": "pUN9TiRgUMK4"
      },
      "source": [
        "<b>Observations:</b><br>\n",
        "Most Sales was generated at Outlet 'OUT027'"
      ]
    },
    {
      "cell_type": "markdown",
      "metadata": {
        "papermill": {
          "duration": 0.048883,
          "end_time": "2020-09-16T10:15:32.187058",
          "exception": false,
          "start_time": "2020-09-16T10:15:32.138175",
          "status": "completed"
        },
        "tags": [],
        "id": "3QGA2UNrUMK5"
      },
      "source": [
        "# <font color=\"purple\">8) Impact of Outlet Type on Outlet Sales</font>"
      ]
    },
    {
      "cell_type": "code",
      "execution_count": 41,
      "metadata": {
        "execution": {
          "iopub.execute_input": "2020-09-16T10:15:32.304130Z",
          "iopub.status.busy": "2020-09-16T10:15:32.303463Z",
          "iopub.status.idle": "2020-09-16T10:15:32.441719Z",
          "shell.execute_reply": "2020-09-16T10:15:32.441078Z"
        },
        "papermill": {
          "duration": 0.205904,
          "end_time": "2020-09-16T10:15:32.441847",
          "exception": false,
          "start_time": "2020-09-16T10:15:32.235943",
          "status": "completed"
        },
        "tags": [],
        "id": "VAXWmxXUUMK5",
        "outputId": "24014d6b-4a51-471e-9288-81f0775a5def",
        "colab": {
          "base_uri": "https://localhost:8080/",
          "height": 351
        }
      },
      "outputs": [
        {
          "output_type": "display_data",
          "data": {
            "text/plain": [
              "<Figure size 720x360 with 1 Axes>"
            ],
            "image/png": "[encoded data removed]"
          },
          "metadata": {
            "needs_background": "light"
          }
        }
      ],
      "source": [
        "plt.figure(figsize=(10,5))\n",
        "type2=data.groupby(['Outlet_Type'])['Item_Outlet_Sales'].sum()\n",
        "store_types=['Grocery Store', 'Supermarket Type1', 'Supermarket Type2', 'Supermarket Type3']\n",
        "plt.bar(store_types,type2, width=0.6,color='coral')\n",
        "plt.ticklabel_format(axis=\"y\", style=\"plain\")\n",
        "plt.xlabel('Outlet_Type')\n",
        "plt.ylabel('Item_Outlet_Sales')\n",
        "plt.title('Outlet Type vs Outlet Sales')\n",
        "plt.show()"
      ]
    },
    {
      "cell_type": "markdown",
      "metadata": {
        "papermill": {
          "duration": 0.05632,
          "end_time": "2020-09-16T10:15:32.557801",
          "exception": false,
          "start_time": "2020-09-16T10:15:32.501481",
          "status": "completed"
        },
        "tags": [],
        "id": "3ITYdqkPUMK6"
      },
      "source": [
        "<b>Observations:</b><br>\n",
        "Supermarket Type 1 has the heighest Sales"
      ]
    },
    {
      "cell_type": "markdown",
      "metadata": {
        "papermill": {
          "duration": 0.049445,
          "end_time": "2020-09-16T10:15:32.652316",
          "exception": false,
          "start_time": "2020-09-16T10:15:32.602871",
          "status": "completed"
        },
        "tags": [],
        "id": "sveykic5UMK6"
      },
      "source": [
        "# <font color=\"purple\">9) Impact of Outlet Size on Outlet Sales</font>"
      ]
    },
    {
      "cell_type": "code",
      "execution_count": 42,
      "metadata": {
        "execution": {
          "iopub.execute_input": "2020-09-16T10:15:32.761232Z",
          "iopub.status.busy": "2020-09-16T10:15:32.759684Z",
          "iopub.status.idle": "2020-09-16T10:15:32.891344Z",
          "shell.execute_reply": "2020-09-16T10:15:32.891779Z"
        },
        "papermill": {
          "duration": 0.190243,
          "end_time": "2020-09-16T10:15:32.891957",
          "exception": false,
          "start_time": "2020-09-16T10:15:32.701714",
          "status": "completed"
        },
        "tags": [],
        "id": "jxMmYB29UMK6",
        "outputId": "3ed39998-efda-4241-ad76-ecf509581e31",
        "colab": {
          "base_uri": "https://localhost:8080/",
          "height": 351
        }
      },
      "outputs": [
        {
          "output_type": "display_data",
          "data": {
            "text/plain": [
              "<Figure size 720x360 with 1 Axes>"
            ],
            "image/png": "[encoded data removed]"
          },
          "metadata": {
            "needs_background": "light"
          }
        }
      ],
      "source": [
        "#sci to plain\n",
        "#x and y\n",
        "plt.figure(figsize=(10,5))\n",
        "type3 = data.groupby(['Outlet_Size'])['Item_Outlet_Sales'].sum()\n",
        "size = ['High', 'Medium', 'Small']\n",
        "plt.bar(size, type3, color='Orange',width=0.6)\n",
        "plt.ticklabel_format(axis=\"y\", style=\"plain\")\n",
        "plt.xlabel('Outlet_Size')\n",
        "plt.ylabel('Item_Outlet_Sales')\n",
        "plt.title('Outlet Type vs Outlet Sales')\n",
        "plt.show()"
      ]
    },
    {
      "cell_type": "markdown",
      "metadata": {
        "papermill": {
          "duration": 0.052787,
          "end_time": "2020-09-16T10:15:32.993755",
          "exception": false,
          "start_time": "2020-09-16T10:15:32.940968",
          "status": "completed"
        },
        "tags": [],
        "id": "oMWbXqJuUMK7"
      },
      "source": [
        "<b>Observations:</b><br>\n",
        "The Outlet Sales is maximum for Medium sized Outlets.<br>\n",
        "High size Outlets can improve the Outlet Sales.\n"
      ]
    },
    {
      "cell_type": "markdown",
      "metadata": {
        "papermill": {
          "duration": 0.044857,
          "end_time": "2020-09-16T10:15:33.084303",
          "exception": false,
          "start_time": "2020-09-16T10:15:33.039446",
          "status": "completed"
        },
        "tags": [],
        "id": "fy4sv0L-UMK7"
      },
      "source": [
        "# <font color=\"purple\">10) Item type vs Item MRP</font>"
      ]
    },
    {
      "cell_type": "code",
      "execution_count": 43,
      "metadata": {
        "execution": {
          "iopub.execute_input": "2020-09-16T10:15:33.183383Z",
          "iopub.status.busy": "2020-09-16T10:15:33.182688Z",
          "iopub.status.idle": "2020-09-16T10:15:33.559085Z",
          "shell.execute_reply": "2020-09-16T10:15:33.559627Z"
        },
        "papermill": {
          "duration": 0.430093,
          "end_time": "2020-09-16T10:15:33.559810",
          "exception": false,
          "start_time": "2020-09-16T10:15:33.129717",
          "status": "completed"
        },
        "tags": [],
        "id": "A4VY0AtBUMK8",
        "outputId": "ef1174b7-89fe-41a5-ee5f-66ee830fe40b",
        "colab": {
          "base_uri": "https://localhost:8080/",
          "height": 269
        }
      },
      "outputs": [
        {
          "output_type": "display_data",
          "data": {
            "text/plain": [
              "<Figure size 1800x360 with 1 Axes>"
            ],
            "image/png": "[encoded data removed]"
          },
          "metadata": {
            "needs_background": "light"
          }
        }
      ],
      "source": [
        "plt.rcParams['figure.figsize'] = 25,5\n",
        "chart=sns.boxplot(x=\"Item_Type\",y=\"Item_MRP\",data=data,palette='husl')\n",
        "chart.set_xticklabels(chart.get_xticklabels(), rotation=45,horizontalalignment='right', fontweight='light',fontsize='x-large')\n",
        "plt.show()"
      ]
    },
    {
      "cell_type": "markdown",
      "metadata": {
        "papermill": {
          "duration": 0.051379,
          "end_time": "2020-09-16T10:15:33.663341",
          "exception": false,
          "start_time": "2020-09-16T10:15:33.611962",
          "status": "completed"
        },
        "tags": [],
        "id": "P5Y3zmlhUMK8"
      },
      "source": [
        "<b>Observations:</b><br>\n",
        "Dairy and Starchy Foods have the Highest Mrps(200-250 dollars).\n",
        "Starchy Foods have highest average Item MRP"
      ]
    },
    {
      "cell_type": "markdown",
      "metadata": {
        "papermill": {
          "duration": 0.050974,
          "end_time": "2020-09-16T10:15:33.764919",
          "exception": false,
          "start_time": "2020-09-16T10:15:33.713945",
          "status": "completed"
        },
        "tags": [],
        "id": "2uPwfp0KUMK9"
      },
      "source": [
        "# <font color=\"purple\">11) Impact of Outlet Establishment Year on Sales</font>"
      ]
    },
    {
      "cell_type": "code",
      "execution_count": 44,
      "metadata": {
        "execution": {
          "iopub.execute_input": "2020-09-16T10:15:33.871933Z",
          "iopub.status.busy": "2020-09-16T10:15:33.870839Z",
          "iopub.status.idle": "2020-09-16T10:15:34.141723Z",
          "shell.execute_reply": "2020-09-16T10:15:34.142230Z"
        },
        "papermill": {
          "duration": 0.326782,
          "end_time": "2020-09-16T10:15:34.142388",
          "exception": false,
          "start_time": "2020-09-16T10:15:33.815606",
          "status": "completed"
        },
        "tags": [],
        "id": "tVjRQweTUMK9",
        "outputId": "b1daad59-bba2-4b8c-cc8b-97d417826f54",
        "colab": {
          "base_uri": "https://localhost:8080/",
          "height": 390
        }
      },
      "outputs": [
        {
          "output_type": "stream",
          "name": "stderr",
          "text": [
            "/usr/local/lib/python3.7/dist-packages/seaborn/_decorators.py:43: FutureWarning: Pass the following variables as keyword args: x, y. From version 0.12, the only valid positional argument will be `data`, and passing other arguments without an explicit keyword will result in an error or misinterpretation.\n",
            "  FutureWarning\n"
          ]
        },
        {
          "output_type": "display_data",
          "data": {
            "text/plain": [
              "<Figure size 720x360 with 1 Axes>"
            ],
            "image/png": "[encoded data removed]"
          },
          "metadata": {
            "needs_background": "light"
          }
        }
      ],
      "source": [
        "plt.figure(figsize=(10,5))\n",
        "sns.boxplot('Outlet_Establishment_Year','Item_Outlet_Sales',data=data,palette=\"Paired\")\n",
        "plt.show()"
      ]
    },
    {
      "cell_type": "markdown",
      "metadata": {
        "papermill": {
          "duration": 0.056411,
          "end_time": "2020-09-16T10:15:34.259202",
          "exception": false,
          "start_time": "2020-09-16T10:15:34.202791",
          "status": "completed"
        },
        "tags": [],
        "id": "2gCmKzwbUMK9"
      },
      "source": [
        "<b>Observations:</b><br>\n",
        "Average sales are the same across stores established from 1985 to 2009(except for the 1998 established store)\n",
        "The highest Item outlet sales is recorded by stores established in 1985."
      ]
    },
    {
      "cell_type": "markdown",
      "metadata": {
        "papermill": {
          "duration": 0.059999,
          "end_time": "2020-09-16T10:15:34.373637",
          "exception": false,
          "start_time": "2020-09-16T10:15:34.313638",
          "status": "completed"
        },
        "tags": [],
        "id": "dSViHWnIUMK-"
      },
      "source": [
        "# <font color=\"purple\">12) Impact of Profit vs Item_Type</font>"
      ]
    },
    {
      "cell_type": "code",
      "execution_count": 46,
      "metadata": {
        "execution": {
          "iopub.execute_input": "2020-09-16T10:15:34.495346Z",
          "iopub.status.busy": "2020-09-16T10:15:34.494747Z",
          "iopub.status.idle": "2020-09-16T10:15:34.726470Z",
          "shell.execute_reply": "2020-09-16T10:15:34.726895Z"
        },
        "papermill": {
          "duration": 0.3007,
          "end_time": "2020-09-16T10:15:34.727051",
          "exception": false,
          "start_time": "2020-09-16T10:15:34.426351",
          "status": "completed"
        },
        "tags": [],
        "id": "FKFOk5jOUMK-",
        "outputId": "a3e18cb0-aa77-4ee9-e340-cdb27b239184",
        "colab": {
          "base_uri": "https://localhost:8080/",
          "height": 460
        }
      },
      "outputs": [
        {
          "output_type": "display_data",
          "data": {
            "text/plain": [
              "<Figure size 720x360 with 1 Axes>"
            ],
            "image/png": "[encoded data removed]"
          },
          "metadata": {
            "needs_background": "light"
          }
        }
      ],
      "source": [
        "data[\"Total_Profit\"] = (data['Item_Outlet_Sales']/data['Item_MRP']) * data['Profit']\n",
        "type6=data.groupby(by='Item_Type')['Total_Profit'].sum()\n",
        "plt.figure(figsize = (10,5))\n",
        "lab = ['Fruits and Vegetables', 'Snack Foods','Household ','Frozen Foods','Dairy ', 'Canned','Baking Goods','Health and Hygiene','Meat', 'Soft Drinks','Breads','Hard Drinks','Starchy Foods', 'Others','Breakfast','Seafood']\n",
        "lab.sort()\n",
        "chart = sns.barplot(x = lab, y = type6)\n",
        "chart.set_xticklabels(chart.get_xticklabels(), rotation=45, horizontalalignment='right', fontweight='light',fontsize='x-large')\n",
        "plt.xlabel('Total_Profit')\n",
        "plt.ylabel('Item_Outlet_Sales')\n",
        "plt.title('Profit vs Item_Type')\n",
        "plt.show()"
      ]
    },
    {
      "cell_type": "markdown",
      "metadata": {
        "papermill": {
          "duration": 0.051804,
          "end_time": "2020-09-16T10:15:34.829913",
          "exception": false,
          "start_time": "2020-09-16T10:15:34.778109",
          "status": "completed"
        },
        "tags": [],
        "id": "nH1A2VgAUMK_"
      },
      "source": [
        "<b>Observations:</b><br>\n",
        "'Fruits and Vegetables' have the highest Total Profit"
      ]
    },
    {
      "cell_type": "markdown",
      "metadata": {
        "papermill": {
          "duration": 0.052228,
          "end_time": "2020-09-16T10:15:34.931987",
          "exception": false,
          "start_time": "2020-09-16T10:15:34.879759",
          "status": "completed"
        },
        "tags": [],
        "id": "7DUgEFUkUMK_"
      },
      "source": [
        "# Key Observations:\n",
        "1.The Items are mostly of Low Fat.<br>\n",
        "2.Fruits and Vegetables are largely sold as people tend to use them on daily purpose.\n",
        "Snack Foods too have good sales.<br>\n",
        "3.The Outlets are more of Medium Size<br>\n",
        "4.The Outlets are mostly of Supermarket Type1.<br>\n",
        "5.The Item Outles sales are higher for Low Fat compared to Regular Item types. <br>\n",
        "6.Fruits and Vegetables generated most Sales where as Seafood generated the least sales accross all stores.<br>\n",
        "7.Most Sales was generated at Outlet 'OUT027'.<br>\n",
        "8.Supermarket Type 1 has the heighest Sales.<br>\n",
        "9.The Outlet Sales is maximum for Medium sized Outlets.\n",
        "   High size Outlets can improve the Outlet Sales.<br>\n",
        "10.Dairy and Starchy Foods have the Highest Mrps(200-250 dollars).\n",
        "Starchy Foods have highest average Item MRP<br>\n",
        "11.Average sales are the same across stores established from 1985 to 2009(except for the 1998 established store)<br>\n",
        "The highest Item outlet sales is recorded by stores established in 1985.<br>\n",
        "12.'Fruits and Vegetables' have the highest Total Profit.\n"
      ]
    },
    {
      "cell_type": "markdown",
      "source": [
        "<font color=\"blue\"> Thankyou\n"
      ],
      "metadata": {
        "id": "LQ796NeSIy9u"
      }
    },
    {
      "cell_type": "code",
      "source": [
        ""
      ],
      "metadata": {
        "id": "bVluRk7VI22Z"
      },
      "execution_count": null,
      "outputs": []
    }
  ],
  "metadata": {
    "kernelspec": {
      "display_name": "Python 3",
      "language": "python",
      "name": "python3"
    },
    "language_info": {
      "codemirror_mode": {
        "name": "ipython",
        "version": 3
      },
      "file_extension": ".py",
      "mimetype": "text/x-python",
      "name": "python",
      "nbconvert_exporter": "python",
      "pygments_lexer": "ipython3",
      "version": "3.7.6"
    },
    "papermill": {
      "duration": 15.564777,
      "end_time": "2020-09-16T10:15:35.427745",
      "environment_variables": {},
      "exception": null,
      "input_path": "__notebook__.ipynb",
      "output_path": "__notebook__.ipynb",
      "parameters": {},
      "start_time": "2020-09-16T10:15:19.862968",
      "version": "2.1.0"
    },
    "colab": {
      "name": "shopping-mart-sales-visualization-and-break-down.ipynb",
      "provenance": [],
      "collapsed_sections": [
        "dndUi9bGUMKv",
        "j_JoIy2nUMKv",
        "hpvGCtGuUMK0"
      ]
    }
  },
  "nbformat": 4,
  "nbformat_minor": 0
}